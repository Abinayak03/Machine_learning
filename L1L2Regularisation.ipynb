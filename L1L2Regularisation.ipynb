{
  "cells": [
    {
      "cell_type": "markdown",
      "metadata": {
        "id": "view-in-github",
        "colab_type": "text"
      },
      "source": [
        "<a href=\"https://colab.research.google.com/github/Abinayak03/Machine_learning/blob/main/L1L2Regularisation.ipynb\" target=\"_parent\"><img src=\"https://colab.research.google.com/assets/colab-badge.svg\" alt=\"Open In Colab\"/></a>"
      ]
    },
    {
      "cell_type": "markdown",
      "id": "9f3ff33c-6de3-4403-a484-bcfa23016ac5",
      "metadata": {
        "id": "9f3ff33c-6de3-4403-a484-bcfa23016ac5"
      },
      "source": [
        "### Problem Statement\n",
        "\n",
        "You are a data scientist / AI engineer at a healthcare consulting firm. You have been provided with a dataset named **`\"patient_health_data.csv\"`**, which includes records of various health indicators for a group of patients. The dataset comprises the following columns:\n",
        "\n",
        "- `age:` The age of the patient.\n",
        "- `bmi:` Body Mass Index of the patient.\n",
        "- `blood_pressure:` The blood pressure of the patient.\n",
        "- `cholesterol:` Cholesterol levels of the patient.\n",
        "- `glucose:` Glucose levels of the patient.\n",
        "- `insulin:` Insulin levels of the patient.\n",
        "- `heart_rate:` Heart rate of the patient.\n",
        "- `activity_level:` Activity level of the patient.\n",
        "- `diet_quality:` Quality of diet of the patient.\n",
        "- `smoking_status:` Whether the patient smokes (Yes or No).\n",
        "- `alcohol_intake:` The amount of alcohol intake by the patient.\n",
        "- `health_risk_score:` A composite score representing the overall health risk of a patient.\n",
        "\n",
        "Your task is to use this dataset to build a linear regression model to predict the health risk score based on the given predictor variables. Additionally, you will use L1 (Lasso) and L2 (Ridge) regularization techniques to improve the model's performance."
      ]
    },
    {
      "cell_type": "markdown",
      "id": "e1eac6f0-96bf-499a-94c1-5c16b54373bb",
      "metadata": {
        "id": "e1eac6f0-96bf-499a-94c1-5c16b54373bb"
      },
      "source": [
        "**Import Necessary Libraries**"
      ]
    },
    {
      "cell_type": "code",
      "execution_count": 25,
      "id": "2fd337fd-ceb1-4266-b487-2015d3b47876",
      "metadata": {
        "id": "2fd337fd-ceb1-4266-b487-2015d3b47876"
      },
      "outputs": [],
      "source": [
        "# Import necessary libraries\n",
        "import pandas as pd\n",
        "import numpy as np\n",
        "import matplotlib.pyplot as plt\n",
        "import seaborn as sns\n",
        "from sklearn.linear_model import LinearRegression,Lasso,Ridge\n",
        "from sklearn.model_selection import train_test_split\n",
        "from sklearn.metrics import r2_score"
      ]
    },
    {
      "cell_type": "markdown",
      "id": "33d9a812-9dfb-4323-bc42-04a1fba1b73d",
      "metadata": {
        "id": "33d9a812-9dfb-4323-bc42-04a1fba1b73d"
      },
      "source": [
        "### Task 1: Data Preparation and Exploration\n",
        "\n",
        "1. Import the data from the **`\"patient_health_data.csv\"`** file and store it in a variable df.\n",
        "2. Display the number of rows and columns in the dataset.\n",
        "3. Display the first few rows of the dataset to get an overview.\n",
        "4. Check for any missing values in the dataset and handle them appropriately.\n",
        "5. Encode the categorical variable `'smoking_status'` by converting 'Yes' to 1 and 'No' to 0."
      ]
    },
    {
      "cell_type": "code",
      "execution_count": 26,
      "id": "f9ec42ac-a645-4d39-a809-acfbed5d30fe",
      "metadata": {
        "colab": {
          "base_uri": "https://localhost:8080/",
          "height": 330
        },
        "id": "f9ec42ac-a645-4d39-a809-acfbed5d30fe",
        "outputId": "3b704cc7-1874-4528-cf34-e67adfe3c744"
      },
      "outputs": [
        {
          "output_type": "stream",
          "name": "stdout",
          "text": [
            "Number of rows: 250\n",
            "Number of columns: 12\n",
            "smoking_status\n",
            "No     128\n",
            "Yes    122\n",
            "Name: count, dtype: int64\n"
          ]
        },
        {
          "output_type": "execute_result",
          "data": {
            "text/plain": [
              "   age        bmi  blood_pressure  ...  smoking_status  alcohol_intake  health_risk_score\n",
              "0   58  24.865215      122.347094  ...              No        0.824123         150.547752\n",
              "1   71  19.103168      136.852028  ...              No        0.852910         160.320350\n",
              "2   48  22.316562      137.592457  ...             Yes        4.740542         187.487398\n",
              "3   34  22.196893      153.164775  ...              No        2.226231         148.773138\n",
              "4   62  29.837173       92.768973  ...              No        3.944011         170.609655\n",
              "\n",
              "[5 rows x 12 columns]"
            ],
            "text/html": [
              "\n",
              "  <div id=\"df-bda93832-dd56-4bce-9b5a-3a77e57314bd\" class=\"colab-df-container\">\n",
              "    <div>\n",
              "<style scoped>\n",
              "    .dataframe tbody tr th:only-of-type {\n",
              "        vertical-align: middle;\n",
              "    }\n",
              "\n",
              "    .dataframe tbody tr th {\n",
              "        vertical-align: top;\n",
              "    }\n",
              "\n",
              "    .dataframe thead th {\n",
              "        text-align: right;\n",
              "    }\n",
              "</style>\n",
              "<table border=\"1\" class=\"dataframe\">\n",
              "  <thead>\n",
              "    <tr style=\"text-align: right;\">\n",
              "      <th></th>\n",
              "      <th>age</th>\n",
              "      <th>bmi</th>\n",
              "      <th>blood_pressure</th>\n",
              "      <th>cholesterol</th>\n",
              "      <th>glucose</th>\n",
              "      <th>insulin</th>\n",
              "      <th>heart_rate</th>\n",
              "      <th>activity_level</th>\n",
              "      <th>diet_quality</th>\n",
              "      <th>smoking_status</th>\n",
              "      <th>alcohol_intake</th>\n",
              "      <th>health_risk_score</th>\n",
              "    </tr>\n",
              "  </thead>\n",
              "  <tbody>\n",
              "    <tr>\n",
              "      <th>0</th>\n",
              "      <td>58</td>\n",
              "      <td>24.865215</td>\n",
              "      <td>122.347094</td>\n",
              "      <td>165.730375</td>\n",
              "      <td>149.289441</td>\n",
              "      <td>22.306844</td>\n",
              "      <td>75.866391</td>\n",
              "      <td>1.180237</td>\n",
              "      <td>7.675409</td>\n",
              "      <td>No</td>\n",
              "      <td>0.824123</td>\n",
              "      <td>150.547752</td>\n",
              "    </tr>\n",
              "    <tr>\n",
              "      <th>1</th>\n",
              "      <td>71</td>\n",
              "      <td>19.103168</td>\n",
              "      <td>136.852028</td>\n",
              "      <td>260.610781</td>\n",
              "      <td>158.584646</td>\n",
              "      <td>13.869817</td>\n",
              "      <td>69.481114</td>\n",
              "      <td>7.634622</td>\n",
              "      <td>8.933057</td>\n",
              "      <td>No</td>\n",
              "      <td>0.852910</td>\n",
              "      <td>160.320350</td>\n",
              "    </tr>\n",
              "    <tr>\n",
              "      <th>2</th>\n",
              "      <td>48</td>\n",
              "      <td>22.316562</td>\n",
              "      <td>137.592457</td>\n",
              "      <td>177.342582</td>\n",
              "      <td>178.760166</td>\n",
              "      <td>22.849816</td>\n",
              "      <td>69.386962</td>\n",
              "      <td>7.917398</td>\n",
              "      <td>3.501119</td>\n",
              "      <td>Yes</td>\n",
              "      <td>4.740542</td>\n",
              "      <td>187.487398</td>\n",
              "    </tr>\n",
              "    <tr>\n",
              "      <th>3</th>\n",
              "      <td>34</td>\n",
              "      <td>22.196893</td>\n",
              "      <td>153.164775</td>\n",
              "      <td>234.594764</td>\n",
              "      <td>136.351714</td>\n",
              "      <td>15.140336</td>\n",
              "      <td>95.348387</td>\n",
              "      <td>3.192910</td>\n",
              "      <td>2.745585</td>\n",
              "      <td>No</td>\n",
              "      <td>2.226231</td>\n",
              "      <td>148.773138</td>\n",
              "    </tr>\n",
              "    <tr>\n",
              "      <th>4</th>\n",
              "      <td>62</td>\n",
              "      <td>29.837173</td>\n",
              "      <td>92.768973</td>\n",
              "      <td>276.106498</td>\n",
              "      <td>158.753516</td>\n",
              "      <td>17.228576</td>\n",
              "      <td>77.680975</td>\n",
              "      <td>7.044026</td>\n",
              "      <td>8.918348</td>\n",
              "      <td>No</td>\n",
              "      <td>3.944011</td>\n",
              "      <td>170.609655</td>\n",
              "    </tr>\n",
              "  </tbody>\n",
              "</table>\n",
              "</div>\n",
              "    <div class=\"colab-df-buttons\">\n",
              "\n",
              "  <div class=\"colab-df-container\">\n",
              "    <button class=\"colab-df-convert\" onclick=\"convertToInteractive('df-bda93832-dd56-4bce-9b5a-3a77e57314bd')\"\n",
              "            title=\"Convert this dataframe to an interactive table.\"\n",
              "            style=\"display:none;\">\n",
              "\n",
              "  <svg xmlns=\"http://www.w3.org/2000/svg\" height=\"24px\" viewBox=\"0 -960 960 960\">\n",
              "    <path d=\"M120-120v-720h720v720H120Zm60-500h600v-160H180v160Zm220 220h160v-160H400v160Zm0 220h160v-160H400v160ZM180-400h160v-160H180v160Zm440 0h160v-160H620v160ZM180-180h160v-160H180v160Zm440 0h160v-160H620v160Z\"/>\n",
              "  </svg>\n",
              "    </button>\n",
              "\n",
              "  <style>\n",
              "    .colab-df-container {\n",
              "      display:flex;\n",
              "      gap: 12px;\n",
              "    }\n",
              "\n",
              "    .colab-df-convert {\n",
              "      background-color: #E8F0FE;\n",
              "      border: none;\n",
              "      border-radius: 50%;\n",
              "      cursor: pointer;\n",
              "      display: none;\n",
              "      fill: #1967D2;\n",
              "      height: 32px;\n",
              "      padding: 0 0 0 0;\n",
              "      width: 32px;\n",
              "    }\n",
              "\n",
              "    .colab-df-convert:hover {\n",
              "      background-color: #E2EBFA;\n",
              "      box-shadow: 0px 1px 2px rgba(60, 64, 67, 0.3), 0px 1px 3px 1px rgba(60, 64, 67, 0.15);\n",
              "      fill: #174EA6;\n",
              "    }\n",
              "\n",
              "    .colab-df-buttons div {\n",
              "      margin-bottom: 4px;\n",
              "    }\n",
              "\n",
              "    [theme=dark] .colab-df-convert {\n",
              "      background-color: #3B4455;\n",
              "      fill: #D2E3FC;\n",
              "    }\n",
              "\n",
              "    [theme=dark] .colab-df-convert:hover {\n",
              "      background-color: #434B5C;\n",
              "      box-shadow: 0px 1px 3px 1px rgba(0, 0, 0, 0.15);\n",
              "      filter: drop-shadow(0px 1px 2px rgba(0, 0, 0, 0.3));\n",
              "      fill: #FFFFFF;\n",
              "    }\n",
              "  </style>\n",
              "\n",
              "    <script>\n",
              "      const buttonEl =\n",
              "        document.querySelector('#df-bda93832-dd56-4bce-9b5a-3a77e57314bd button.colab-df-convert');\n",
              "      buttonEl.style.display =\n",
              "        google.colab.kernel.accessAllowed ? 'block' : 'none';\n",
              "\n",
              "      async function convertToInteractive(key) {\n",
              "        const element = document.querySelector('#df-bda93832-dd56-4bce-9b5a-3a77e57314bd');\n",
              "        const dataTable =\n",
              "          await google.colab.kernel.invokeFunction('convertToInteractive',\n",
              "                                                    [key], {});\n",
              "        if (!dataTable) return;\n",
              "\n",
              "        const docLinkHtml = 'Like what you see? Visit the ' +\n",
              "          '<a target=\"_blank\" href=https://colab.research.google.com/notebooks/data_table.ipynb>data table notebook</a>'\n",
              "          + ' to learn more about interactive tables.';\n",
              "        element.innerHTML = '';\n",
              "        dataTable['output_type'] = 'display_data';\n",
              "        await google.colab.output.renderOutput(dataTable, element);\n",
              "        const docLink = document.createElement('div');\n",
              "        docLink.innerHTML = docLinkHtml;\n",
              "        element.appendChild(docLink);\n",
              "      }\n",
              "    </script>\n",
              "  </div>\n",
              "\n",
              "\n",
              "<div id=\"df-9a2eece8-4c01-4c5c-af6d-547e7d10d330\">\n",
              "  <button class=\"colab-df-quickchart\" onclick=\"quickchart('df-9a2eece8-4c01-4c5c-af6d-547e7d10d330')\"\n",
              "            title=\"Suggest charts\"\n",
              "            style=\"display:none;\">\n",
              "\n",
              "<svg xmlns=\"http://www.w3.org/2000/svg\" height=\"24px\"viewBox=\"0 0 24 24\"\n",
              "     width=\"24px\">\n",
              "    <g>\n",
              "        <path d=\"M19 3H5c-1.1 0-2 .9-2 2v14c0 1.1.9 2 2 2h14c1.1 0 2-.9 2-2V5c0-1.1-.9-2-2-2zM9 17H7v-7h2v7zm4 0h-2V7h2v10zm4 0h-2v-4h2v4z\"/>\n",
              "    </g>\n",
              "</svg>\n",
              "  </button>\n",
              "\n",
              "<style>\n",
              "  .colab-df-quickchart {\n",
              "      --bg-color: #E8F0FE;\n",
              "      --fill-color: #1967D2;\n",
              "      --hover-bg-color: #E2EBFA;\n",
              "      --hover-fill-color: #174EA6;\n",
              "      --disabled-fill-color: #AAA;\n",
              "      --disabled-bg-color: #DDD;\n",
              "  }\n",
              "\n",
              "  [theme=dark] .colab-df-quickchart {\n",
              "      --bg-color: #3B4455;\n",
              "      --fill-color: #D2E3FC;\n",
              "      --hover-bg-color: #434B5C;\n",
              "      --hover-fill-color: #FFFFFF;\n",
              "      --disabled-bg-color: #3B4455;\n",
              "      --disabled-fill-color: #666;\n",
              "  }\n",
              "\n",
              "  .colab-df-quickchart {\n",
              "    background-color: var(--bg-color);\n",
              "    border: none;\n",
              "    border-radius: 50%;\n",
              "    cursor: pointer;\n",
              "    display: none;\n",
              "    fill: var(--fill-color);\n",
              "    height: 32px;\n",
              "    padding: 0;\n",
              "    width: 32px;\n",
              "  }\n",
              "\n",
              "  .colab-df-quickchart:hover {\n",
              "    background-color: var(--hover-bg-color);\n",
              "    box-shadow: 0 1px 2px rgba(60, 64, 67, 0.3), 0 1px 3px 1px rgba(60, 64, 67, 0.15);\n",
              "    fill: var(--button-hover-fill-color);\n",
              "  }\n",
              "\n",
              "  .colab-df-quickchart-complete:disabled,\n",
              "  .colab-df-quickchart-complete:disabled:hover {\n",
              "    background-color: var(--disabled-bg-color);\n",
              "    fill: var(--disabled-fill-color);\n",
              "    box-shadow: none;\n",
              "  }\n",
              "\n",
              "  .colab-df-spinner {\n",
              "    border: 2px solid var(--fill-color);\n",
              "    border-color: transparent;\n",
              "    border-bottom-color: var(--fill-color);\n",
              "    animation:\n",
              "      spin 1s steps(1) infinite;\n",
              "  }\n",
              "\n",
              "  @keyframes spin {\n",
              "    0% {\n",
              "      border-color: transparent;\n",
              "      border-bottom-color: var(--fill-color);\n",
              "      border-left-color: var(--fill-color);\n",
              "    }\n",
              "    20% {\n",
              "      border-color: transparent;\n",
              "      border-left-color: var(--fill-color);\n",
              "      border-top-color: var(--fill-color);\n",
              "    }\n",
              "    30% {\n",
              "      border-color: transparent;\n",
              "      border-left-color: var(--fill-color);\n",
              "      border-top-color: var(--fill-color);\n",
              "      border-right-color: var(--fill-color);\n",
              "    }\n",
              "    40% {\n",
              "      border-color: transparent;\n",
              "      border-right-color: var(--fill-color);\n",
              "      border-top-color: var(--fill-color);\n",
              "    }\n",
              "    60% {\n",
              "      border-color: transparent;\n",
              "      border-right-color: var(--fill-color);\n",
              "    }\n",
              "    80% {\n",
              "      border-color: transparent;\n",
              "      border-right-color: var(--fill-color);\n",
              "      border-bottom-color: var(--fill-color);\n",
              "    }\n",
              "    90% {\n",
              "      border-color: transparent;\n",
              "      border-bottom-color: var(--fill-color);\n",
              "    }\n",
              "  }\n",
              "</style>\n",
              "\n",
              "  <script>\n",
              "    async function quickchart(key) {\n",
              "      const quickchartButtonEl =\n",
              "        document.querySelector('#' + key + ' button');\n",
              "      quickchartButtonEl.disabled = true;  // To prevent multiple clicks.\n",
              "      quickchartButtonEl.classList.add('colab-df-spinner');\n",
              "      try {\n",
              "        const charts = await google.colab.kernel.invokeFunction(\n",
              "            'suggestCharts', [key], {});\n",
              "      } catch (error) {\n",
              "        console.error('Error during call to suggestCharts:', error);\n",
              "      }\n",
              "      quickchartButtonEl.classList.remove('colab-df-spinner');\n",
              "      quickchartButtonEl.classList.add('colab-df-quickchart-complete');\n",
              "    }\n",
              "    (() => {\n",
              "      let quickchartButtonEl =\n",
              "        document.querySelector('#df-9a2eece8-4c01-4c5c-af6d-547e7d10d330 button');\n",
              "      quickchartButtonEl.style.display =\n",
              "        google.colab.kernel.accessAllowed ? 'block' : 'none';\n",
              "    })();\n",
              "  </script>\n",
              "</div>\n",
              "\n",
              "    </div>\n",
              "  </div>\n"
            ],
            "application/vnd.google.colaboratory.intrinsic+json": {
              "type": "dataframe",
              "variable_name": "df",
              "summary": "{\n  \"name\": \"df\",\n  \"rows\": 250,\n  \"fields\": [\n    {\n      \"column\": \"age\",\n      \"properties\": {\n        \"dtype\": \"number\",\n        \"std\": 17,\n        \"min\": 20,\n        \"max\": 79,\n        \"num_unique_values\": 58,\n        \"samples\": [\n          58,\n          27,\n          76\n        ],\n        \"semantic_type\": \"\",\n        \"description\": \"\"\n      }\n    },\n    {\n      \"column\": \"bmi\",\n      \"properties\": {\n        \"dtype\": \"number\",\n        \"std\": 4.916478703232192,\n        \"min\": 18.08814267,\n        \"max\": 34.96158825,\n        \"num_unique_values\": 250,\n        \"samples\": [\n          18.86306503,\n          20.51747781,\n          21.91314956\n        ],\n        \"semantic_type\": \"\",\n        \"description\": \"\"\n      }\n    },\n    {\n      \"column\": \"blood_pressure\",\n      \"properties\": {\n        \"dtype\": \"number\",\n        \"std\": 28.263584284132858,\n        \"min\": 80.25950244,\n        \"max\": 179.5931242,\n        \"num_unique_values\": 250,\n        \"samples\": [\n          149.1714397,\n          138.0544012,\n          118.4201831\n        ],\n        \"semantic_type\": \"\",\n        \"description\": \"\"\n      }\n    },\n    {\n      \"column\": \"cholesterol\",\n      \"properties\": {\n        \"dtype\": \"number\",\n        \"std\": 40.86929251557828,\n        \"min\": 150.4066349,\n        \"max\": 299.6538924,\n        \"num_unique_values\": 250,\n        \"samples\": [\n          239.7664052,\n          230.3003346,\n          197.4294873\n        ],\n        \"semantic_type\": \"\",\n        \"description\": \"\"\n      }\n    },\n    {\n      \"column\": \"glucose\",\n      \"properties\": {\n        \"dtype\": \"number\",\n        \"std\": 32.82499076369811,\n        \"min\": 70.02612759,\n        \"max\": 179.928885,\n        \"num_unique_values\": 250,\n        \"samples\": [\n          140.9001316,\n          173.8850698,\n          115.4072906\n        ],\n        \"semantic_type\": \"\",\n        \"description\": \"\"\n      }\n    },\n    {\n      \"column\": \"insulin\",\n      \"properties\": {\n        \"dtype\": \"number\",\n        \"std\": 6.60797734768138,\n        \"min\": 2.023678036,\n        \"max\": 24.81906628,\n        \"num_unique_values\": 250,\n        \"samples\": [\n          13.09419678,\n          21.88333625,\n          18.44325292\n        ],\n        \"semantic_type\": \"\",\n        \"description\": \"\"\n      }\n    },\n    {\n      \"column\": \"heart_rate\",\n      \"properties\": {\n        \"dtype\": \"number\",\n        \"std\": 10.969582176313024,\n        \"min\": 60.04946719,\n        \"max\": 99.81921963,\n        \"num_unique_values\": 250,\n        \"samples\": [\n          83.23728213,\n          77.95110295,\n          85.20834993\n        ],\n        \"semantic_type\": \"\",\n        \"description\": \"\"\n      }\n    },\n    {\n      \"column\": \"activity_level\",\n      \"properties\": {\n        \"dtype\": \"number\",\n        \"std\": 2.589981291735454,\n        \"min\": 1.002992555,\n        \"max\": 9.931738604,\n        \"num_unique_values\": 250,\n        \"samples\": [\n          9.372869964,\n          3.313425398,\n          8.128842704\n        ],\n        \"semantic_type\": \"\",\n        \"description\": \"\"\n      }\n    },\n    {\n      \"column\": \"diet_quality\",\n      \"properties\": {\n        \"dtype\": \"number\",\n        \"std\": 2.609052096485836,\n        \"min\": 1.016918952,\n        \"max\": 9.973703414,\n        \"num_unique_values\": 250,\n        \"samples\": [\n          7.526401548,\n          3.79836037,\n          6.680535814\n        ],\n        \"semantic_type\": \"\",\n        \"description\": \"\"\n      }\n    },\n    {\n      \"column\": \"smoking_status\",\n      \"properties\": {\n        \"dtype\": \"category\",\n        \"num_unique_values\": 2,\n        \"samples\": [\n          \"Yes\",\n          \"No\"\n        ],\n        \"semantic_type\": \"\",\n        \"description\": \"\"\n      }\n    },\n    {\n      \"column\": \"alcohol_intake\",\n      \"properties\": {\n        \"dtype\": \"number\",\n        \"std\": 1.4180730417271874,\n        \"min\": 0.010519216,\n        \"max\": 4.998569021,\n        \"num_unique_values\": 250,\n        \"samples\": [\n          4.235697448,\n          3.382131812\n        ],\n        \"semantic_type\": \"\",\n        \"description\": \"\"\n      }\n    },\n    {\n      \"column\": \"health_risk_score\",\n      \"properties\": {\n        \"dtype\": \"number\",\n        \"std\": 24.555977419030523,\n        \"min\": 66.45720314,\n        \"max\": 206.491354,\n        \"num_unique_values\": 250,\n        \"samples\": [\n          142.3782995,\n          180.2702933\n        ],\n        \"semantic_type\": \"\",\n        \"description\": \"\"\n      }\n    }\n  ]\n}"
            }
          },
          "metadata": {},
          "execution_count": 26
        }
      ],
      "source": [
        "# Step 1: Import the data from the \"patient_health_data.csv\" file and store it in a variable 'df'\n",
        "df=pd.read_csv('patient_health_data.csv')\n",
        "\n",
        "# Step 2: Display the number of rows and columns in the dataset\n",
        "print('Number of rows:',df.shape[0])\n",
        "print('Number of columns:',df.shape[1])\n",
        "\n",
        "# Step 3: Display the first few rows of the dataset to get an overview\n",
        "\n",
        "print(df.smoking_status.value_counts())\n",
        "df.head()"
      ]
    },
    {
      "cell_type": "code",
      "execution_count": 27,
      "id": "544ecea9-7860-4623-97ee-5218ee729282",
      "metadata": {
        "colab": {
          "base_uri": "https://localhost:8080/",
          "height": 460
        },
        "id": "544ecea9-7860-4623-97ee-5218ee729282",
        "outputId": "903214bc-7c3d-4554-8885-96a1f8683391"
      },
      "outputs": [
        {
          "output_type": "execute_result",
          "data": {
            "text/plain": [
              "age                  0\n",
              "bmi                  0\n",
              "blood_pressure       0\n",
              "cholesterol          0\n",
              "glucose              0\n",
              "insulin              0\n",
              "heart_rate           0\n",
              "activity_level       0\n",
              "diet_quality         0\n",
              "smoking_status       0\n",
              "alcohol_intake       0\n",
              "health_risk_score    0\n",
              "dtype: int64"
            ],
            "text/html": [
              "<div>\n",
              "<style scoped>\n",
              "    .dataframe tbody tr th:only-of-type {\n",
              "        vertical-align: middle;\n",
              "    }\n",
              "\n",
              "    .dataframe tbody tr th {\n",
              "        vertical-align: top;\n",
              "    }\n",
              "\n",
              "    .dataframe thead th {\n",
              "        text-align: right;\n",
              "    }\n",
              "</style>\n",
              "<table border=\"1\" class=\"dataframe\">\n",
              "  <thead>\n",
              "    <tr style=\"text-align: right;\">\n",
              "      <th></th>\n",
              "      <th>0</th>\n",
              "    </tr>\n",
              "  </thead>\n",
              "  <tbody>\n",
              "    <tr>\n",
              "      <th>age</th>\n",
              "      <td>0</td>\n",
              "    </tr>\n",
              "    <tr>\n",
              "      <th>bmi</th>\n",
              "      <td>0</td>\n",
              "    </tr>\n",
              "    <tr>\n",
              "      <th>blood_pressure</th>\n",
              "      <td>0</td>\n",
              "    </tr>\n",
              "    <tr>\n",
              "      <th>cholesterol</th>\n",
              "      <td>0</td>\n",
              "    </tr>\n",
              "    <tr>\n",
              "      <th>glucose</th>\n",
              "      <td>0</td>\n",
              "    </tr>\n",
              "    <tr>\n",
              "      <th>insulin</th>\n",
              "      <td>0</td>\n",
              "    </tr>\n",
              "    <tr>\n",
              "      <th>heart_rate</th>\n",
              "      <td>0</td>\n",
              "    </tr>\n",
              "    <tr>\n",
              "      <th>activity_level</th>\n",
              "      <td>0</td>\n",
              "    </tr>\n",
              "    <tr>\n",
              "      <th>diet_quality</th>\n",
              "      <td>0</td>\n",
              "    </tr>\n",
              "    <tr>\n",
              "      <th>smoking_status</th>\n",
              "      <td>0</td>\n",
              "    </tr>\n",
              "    <tr>\n",
              "      <th>alcohol_intake</th>\n",
              "      <td>0</td>\n",
              "    </tr>\n",
              "    <tr>\n",
              "      <th>health_risk_score</th>\n",
              "      <td>0</td>\n",
              "    </tr>\n",
              "  </tbody>\n",
              "</table>\n",
              "</div><br><label><b>dtype:</b> int64</label>"
            ]
          },
          "metadata": {},
          "execution_count": 27
        }
      ],
      "source": [
        "# Step 4: Check for any missing values in the dataset and handle them appropriately\n",
        "df.isnull().sum()"
      ]
    },
    {
      "cell_type": "code",
      "execution_count": 28,
      "id": "f66339cd-ea78-443c-855c-9ebd9c936aa4",
      "metadata": {
        "colab": {
          "base_uri": "https://localhost:8080/",
          "height": 233
        },
        "id": "f66339cd-ea78-443c-855c-9ebd9c936aa4",
        "outputId": "848ad24c-6937-45f4-9b00-c44f0fb9f014"
      },
      "outputs": [
        {
          "output_type": "stream",
          "name": "stderr",
          "text": [
            "<ipython-input-28-477f1f86d3d6>:2: FutureWarning: Downcasting behavior in `replace` is deprecated and will be removed in a future version. To retain the old behavior, explicitly call `result.infer_objects(copy=False)`. To opt-in to the future behavior, set `pd.set_option('future.no_silent_downcasting', True)`\n",
            "  df['smoking_status'] = df['smoking_status'].replace({'Yes': 1, 'No': 0})\n"
          ]
        },
        {
          "output_type": "execute_result",
          "data": {
            "text/plain": [
              "smoking_status\n",
              "0    128\n",
              "1    122\n",
              "Name: count, dtype: int64"
            ],
            "text/html": [
              "<div>\n",
              "<style scoped>\n",
              "    .dataframe tbody tr th:only-of-type {\n",
              "        vertical-align: middle;\n",
              "    }\n",
              "\n",
              "    .dataframe tbody tr th {\n",
              "        vertical-align: top;\n",
              "    }\n",
              "\n",
              "    .dataframe thead th {\n",
              "        text-align: right;\n",
              "    }\n",
              "</style>\n",
              "<table border=\"1\" class=\"dataframe\">\n",
              "  <thead>\n",
              "    <tr style=\"text-align: right;\">\n",
              "      <th></th>\n",
              "      <th>count</th>\n",
              "    </tr>\n",
              "    <tr>\n",
              "      <th>smoking_status</th>\n",
              "      <th></th>\n",
              "    </tr>\n",
              "  </thead>\n",
              "  <tbody>\n",
              "    <tr>\n",
              "      <th>0</th>\n",
              "      <td>128</td>\n",
              "    </tr>\n",
              "    <tr>\n",
              "      <th>1</th>\n",
              "      <td>122</td>\n",
              "    </tr>\n",
              "  </tbody>\n",
              "</table>\n",
              "</div><br><label><b>dtype:</b> int64</label>"
            ]
          },
          "metadata": {},
          "execution_count": 28
        }
      ],
      "source": [
        "# Step 5: Encode the categorical variable 'smoking_status' by converting 'Yes' to 1 and 'No' to 0.\n",
        "df['smoking_status'] = df['smoking_status'].replace({'Yes': 1, 'No': 0})\n",
        "df.smoking_status.value_counts()\n"
      ]
    },
    {
      "cell_type": "markdown",
      "id": "f16b6366-41ba-4f54-a398-30b7d04fa741",
      "metadata": {
        "id": "f16b6366-41ba-4f54-a398-30b7d04fa741"
      },
      "source": [
        "### Task 2: Train Linear Regression Models\n",
        "\n",
        "1. Select the features and the target variable for modeling.\n",
        "2. Split the data into training and test sets with a test size of 25%.\n",
        "3. Initialize and train a Linear Regression model, and evaluate its performance using R-squared.\n",
        "4. Initialize and train a Lasso Regression model with various alpha values provided in a list: [0.01, 0.1, 1.0, 10.0], and evaluate its performance using R-squared.\n",
        "5. Initialize and train a Ridge Regression model with various alpha values provided in a list: [0.01, 0.1, 1.0, 10.0], and evaluate its performance using R-squared."
      ]
    },
    {
      "cell_type": "code",
      "execution_count": 33,
      "id": "10384638-ccbf-4ff0-a3f7-b1761f083aab",
      "metadata": {
        "id": "10384638-ccbf-4ff0-a3f7-b1761f083aab"
      },
      "outputs": [],
      "source": [
        "# Step 1: Select the features and target variable for modeling\n",
        "X=df.drop(['health_risk_score'],axis=1)\n",
        "y=df['health_risk_score']\n",
        "# Step 2: Split the data into training and test sets with a test size of 25%\n",
        "X_train,X_test,y_train,y_test=train_test_split(X,y,test_size=0.25,random_state=45)"
      ]
    },
    {
      "cell_type": "code",
      "execution_count": 34,
      "id": "d78f133c-a91c-4022-a29d-b56f83d3c76e",
      "metadata": {
        "colab": {
          "base_uri": "https://localhost:8080/"
        },
        "id": "d78f133c-a91c-4022-a29d-b56f83d3c76e",
        "outputId": "e9060209-7fb4-4d03-8147-01a985ce99cc"
      },
      "outputs": [
        {
          "output_type": "stream",
          "name": "stdout",
          "text": [
            "Linear Regression R-squared: 0.8279993566476725\n"
          ]
        }
      ],
      "source": [
        "# Step 3: Initialize and train a Linear Regression model, and evaluate its performance using R-squared\n",
        "linear_model = LinearRegression()\n",
        "linear_model.fit(X_train, y_train)\n",
        "linear_r2 = linear_model.score(X_test, y_test)\n",
        "print(\"Linear Regression R-squared:\", linear_r2)"
      ]
    },
    {
      "cell_type": "code",
      "execution_count": 35,
      "id": "9f4e756b-561b-4a42-b674-4d852482ea7c",
      "metadata": {
        "colab": {
          "base_uri": "https://localhost:8080/"
        },
        "id": "9f4e756b-561b-4a42-b674-4d852482ea7c",
        "outputId": "64b09274-eaae-4f8c-f9f0-ffc05b90303f"
      },
      "outputs": [
        {
          "output_type": "stream",
          "name": "stdout",
          "text": [
            "Lasso Regression R-squared: 0.8313534028695985\n"
          ]
        }
      ],
      "source": [
        "# Step 4: Initialize and train a Lasso Regression model with various alpha values provided in a list, and evaluate its performance using R-squared\n",
        "l1=Lasso(alpha=1.0)\n",
        "l1.fit(X_train,y_train)\n",
        "l1_r2=l1.score(X_test,y_test)\n",
        "print(\"Lasso Regression R-squared:\", l1_r2)"
      ]
    },
    {
      "cell_type": "code",
      "execution_count": 36,
      "id": "45206af6-ea76-4947-abac-681008cb3857",
      "metadata": {
        "colab": {
          "base_uri": "https://localhost:8080/"
        },
        "id": "45206af6-ea76-4947-abac-681008cb3857",
        "outputId": "092ea877-3821-47de-b782-cfa499fe14a8"
      },
      "outputs": [
        {
          "output_type": "stream",
          "name": "stdout",
          "text": [
            "Lasso Regression R-squared: 0.8280178194005621\n"
          ]
        }
      ],
      "source": [
        "# Step 5: Initialize and train a Ridge Regression model with various alpha values provided in a list, and evaluate its performance using R-squared\n",
        "l2=Ridge(alpha=1.0)\n",
        "l2.fit(X_train,y_train)\n",
        "l2_r2=l2.score(X_test,y_test)\n",
        "print(\"Lasso Regression R-squared:\", l2_r2)"
      ]
    }
  ],
  "metadata": {
    "kernelspec": {
      "display_name": "Python 3 (ipykernel)",
      "language": "python",
      "name": "python3"
    },
    "language_info": {
      "codemirror_mode": {
        "name": "ipython",
        "version": 3
      },
      "file_extension": ".py",
      "mimetype": "text/x-python",
      "name": "python",
      "nbconvert_exporter": "python",
      "pygments_lexer": "ipython3",
      "version": "3.10.11"
    },
    "colab": {
      "provenance": [],
      "include_colab_link": true
    }
  },
  "nbformat": 4,
  "nbformat_minor": 5
}