{
  "cells": [
    {
      "cell_type": "markdown",
      "metadata": {
        "id": "view-in-github",
        "colab_type": "text"
      },
      "source": [
        "<a href=\"https://colab.research.google.com/github/Abinayak03/Machine_learning/blob/main/SVM.ipynb\" target=\"_parent\"><img src=\"https://colab.research.google.com/assets/colab-badge.svg\" alt=\"Open In Colab\"/></a>"
      ]
    },
    {
      "cell_type": "markdown",
      "id": "93c19028-be5a-40bb-a08a-6bc04135f45b",
      "metadata": {
        "id": "93c19028-be5a-40bb-a08a-6bc04135f45b"
      },
      "source": [
        "### Problem Statement\n",
        "The dataset comprises the following columns:\n",
        "\n",
        "- temperature: The temperature in degrees Celsius.\n",
        "- humidity: The humidity percentage.\n",
        "- wind_speed: The wind speed in kilometers per hour.\n",
        "- precipitation (%): The precipitation percentage.\n",
        "- cloud_cover: The cloud cover description.\n",
        "- atmospheric_pressure: The atmospheric pressure in hPa.\n",
        "- uv_index: The UV index.\n",
        "- season: The season during which the data was recorded.\n",
        "- visibility (km): The visibility in kilometers.\n",
        "- location: The type of location where the data was recorded.\n",
        "- weather_type: The target variable for classification, indicating the weather type (Rainy, Sunny, Cloudy, Snowy).\n",
        "  \n",
        "I used this dataset to build and evaluate machine learning models to predict the weather type based on the given parameters and performed data preprocessing, exploratory data analysis, and model training using Support Vector Machine (SVM) with different kernels.\n",
        "\n",
        "Dataset credits: Nikhil Narayan (https://www.kaggle.com/datasets/nikhil7280/weather-type-classification)"
      ]
    },
    {
      "cell_type": "markdown",
      "id": "84c41365-f001-4c8b-96be-39dc402f32e0",
      "metadata": {
        "id": "84c41365-f001-4c8b-96be-39dc402f32e0"
      },
      "source": [
        "**Import Necessary Libraries**"
      ]
    },
    {
      "cell_type": "code",
      "execution_count": 23,
      "id": "992e86da-a9a9-4c01-bc80-af273798c18c",
      "metadata": {
        "id": "992e86da-a9a9-4c01-bc80-af273798c18c"
      },
      "outputs": [],
      "source": [
        "# Import Necessary Libraries\n",
        "import pandas as pd\n",
        "import numpy as np\n",
        "import matplotlib.pyplot as plt\n",
        "import seaborn as sns\n",
        "from sklearn.linear_model import LogisticRegression\n",
        "from sklearn.model_selection import train_test_split\n",
        "from sklearn.preprocessing import StandardScaler\n",
        "from sklearn.svm import SVC\n",
        "from sklearn.metrics import accuracy_score, classification_report, confusion_matrix"
      ]
    },
    {
      "cell_type": "markdown",
      "id": "c30c7ee3-e5ea-49d0-a22a-51d92364eb50",
      "metadata": {
        "id": "c30c7ee3-e5ea-49d0-a22a-51d92364eb50"
      },
      "source": [
        "###  Data Preparation and Exploration\n",
        "\n"
      ]
    },
    {
      "cell_type": "code",
      "execution_count": 24,
      "id": "26839a03-4736-4cec-b184-f2311fc22e5b",
      "metadata": {
        "colab": {
          "base_uri": "https://localhost:8080/",
          "height": 261
        },
        "id": "26839a03-4736-4cec-b184-f2311fc22e5b",
        "outputId": "184d69d9-ff1c-4259-a2ad-eb55cb86abb9"
      },
      "outputs": [
        {
          "output_type": "stream",
          "name": "stdout",
          "text": [
            "(13200, 11)\n"
          ]
        },
        {
          "output_type": "execute_result",
          "data": {
            "text/plain": [
              "   temperature  humidity  wind_speed  precipitation (%)    cloud_cover  \\\n",
              "0           14        73         9.5                 82  partly cloudy   \n",
              "1           39        96         8.5                 71  partly cloudy   \n",
              "2           30        64         7.0                 16          clear   \n",
              "3           38        83         1.5                 82          clear   \n",
              "4           27        74        17.0                 66       overcast   \n",
              "\n",
              "   atmospheric_pressure  uv_index  season  visibility (km)  location  \\\n",
              "0               1010.82         2  Winter              3.5    inland   \n",
              "1               1011.43         7  Spring             10.0    inland   \n",
              "2               1018.72         5  Spring              5.5  mountain   \n",
              "3               1026.25         7  Spring              1.0   coastal   \n",
              "4                990.67         1  Winter              2.5  mountain   \n",
              "\n",
              "  weather_type  \n",
              "0        Rainy  \n",
              "1       Cloudy  \n",
              "2        Sunny  \n",
              "3        Sunny  \n",
              "4        Rainy  "
            ],
            "text/html": [
              "\n",
              "  <div id=\"df-47b1942b-9646-4a8f-b998-cab37d23a2dd\" class=\"colab-df-container\">\n",
              "    <div>\n",
              "<style scoped>\n",
              "    .dataframe tbody tr th:only-of-type {\n",
              "        vertical-align: middle;\n",
              "    }\n",
              "\n",
              "    .dataframe tbody tr th {\n",
              "        vertical-align: top;\n",
              "    }\n",
              "\n",
              "    .dataframe thead th {\n",
              "        text-align: right;\n",
              "    }\n",
              "</style>\n",
              "<table border=\"1\" class=\"dataframe\">\n",
              "  <thead>\n",
              "    <tr style=\"text-align: right;\">\n",
              "      <th></th>\n",
              "      <th>temperature</th>\n",
              "      <th>humidity</th>\n",
              "      <th>wind_speed</th>\n",
              "      <th>precipitation (%)</th>\n",
              "      <th>cloud_cover</th>\n",
              "      <th>atmospheric_pressure</th>\n",
              "      <th>uv_index</th>\n",
              "      <th>season</th>\n",
              "      <th>visibility (km)</th>\n",
              "      <th>location</th>\n",
              "      <th>weather_type</th>\n",
              "    </tr>\n",
              "  </thead>\n",
              "  <tbody>\n",
              "    <tr>\n",
              "      <th>0</th>\n",
              "      <td>14</td>\n",
              "      <td>73</td>\n",
              "      <td>9.5</td>\n",
              "      <td>82</td>\n",
              "      <td>partly cloudy</td>\n",
              "      <td>1010.82</td>\n",
              "      <td>2</td>\n",
              "      <td>Winter</td>\n",
              "      <td>3.5</td>\n",
              "      <td>inland</td>\n",
              "      <td>Rainy</td>\n",
              "    </tr>\n",
              "    <tr>\n",
              "      <th>1</th>\n",
              "      <td>39</td>\n",
              "      <td>96</td>\n",
              "      <td>8.5</td>\n",
              "      <td>71</td>\n",
              "      <td>partly cloudy</td>\n",
              "      <td>1011.43</td>\n",
              "      <td>7</td>\n",
              "      <td>Spring</td>\n",
              "      <td>10.0</td>\n",
              "      <td>inland</td>\n",
              "      <td>Cloudy</td>\n",
              "    </tr>\n",
              "    <tr>\n",
              "      <th>2</th>\n",
              "      <td>30</td>\n",
              "      <td>64</td>\n",
              "      <td>7.0</td>\n",
              "      <td>16</td>\n",
              "      <td>clear</td>\n",
              "      <td>1018.72</td>\n",
              "      <td>5</td>\n",
              "      <td>Spring</td>\n",
              "      <td>5.5</td>\n",
              "      <td>mountain</td>\n",
              "      <td>Sunny</td>\n",
              "    </tr>\n",
              "    <tr>\n",
              "      <th>3</th>\n",
              "      <td>38</td>\n",
              "      <td>83</td>\n",
              "      <td>1.5</td>\n",
              "      <td>82</td>\n",
              "      <td>clear</td>\n",
              "      <td>1026.25</td>\n",
              "      <td>7</td>\n",
              "      <td>Spring</td>\n",
              "      <td>1.0</td>\n",
              "      <td>coastal</td>\n",
              "      <td>Sunny</td>\n",
              "    </tr>\n",
              "    <tr>\n",
              "      <th>4</th>\n",
              "      <td>27</td>\n",
              "      <td>74</td>\n",
              "      <td>17.0</td>\n",
              "      <td>66</td>\n",
              "      <td>overcast</td>\n",
              "      <td>990.67</td>\n",
              "      <td>1</td>\n",
              "      <td>Winter</td>\n",
              "      <td>2.5</td>\n",
              "      <td>mountain</td>\n",
              "      <td>Rainy</td>\n",
              "    </tr>\n",
              "  </tbody>\n",
              "</table>\n",
              "</div>\n",
              "    <div class=\"colab-df-buttons\">\n",
              "\n",
              "  <div class=\"colab-df-container\">\n",
              "    <button class=\"colab-df-convert\" onclick=\"convertToInteractive('df-47b1942b-9646-4a8f-b998-cab37d23a2dd')\"\n",
              "            title=\"Convert this dataframe to an interactive table.\"\n",
              "            style=\"display:none;\">\n",
              "\n",
              "  <svg xmlns=\"http://www.w3.org/2000/svg\" height=\"24px\" viewBox=\"0 -960 960 960\">\n",
              "    <path d=\"M120-120v-720h720v720H120Zm60-500h600v-160H180v160Zm220 220h160v-160H400v160Zm0 220h160v-160H400v160ZM180-400h160v-160H180v160Zm440 0h160v-160H620v160ZM180-180h160v-160H180v160Zm440 0h160v-160H620v160Z\"/>\n",
              "  </svg>\n",
              "    </button>\n",
              "\n",
              "  <style>\n",
              "    .colab-df-container {\n",
              "      display:flex;\n",
              "      gap: 12px;\n",
              "    }\n",
              "\n",
              "    .colab-df-convert {\n",
              "      background-color: #E8F0FE;\n",
              "      border: none;\n",
              "      border-radius: 50%;\n",
              "      cursor: pointer;\n",
              "      display: none;\n",
              "      fill: #1967D2;\n",
              "      height: 32px;\n",
              "      padding: 0 0 0 0;\n",
              "      width: 32px;\n",
              "    }\n",
              "\n",
              "    .colab-df-convert:hover {\n",
              "      background-color: #E2EBFA;\n",
              "      box-shadow: 0px 1px 2px rgba(60, 64, 67, 0.3), 0px 1px 3px 1px rgba(60, 64, 67, 0.15);\n",
              "      fill: #174EA6;\n",
              "    }\n",
              "\n",
              "    .colab-df-buttons div {\n",
              "      margin-bottom: 4px;\n",
              "    }\n",
              "\n",
              "    [theme=dark] .colab-df-convert {\n",
              "      background-color: #3B4455;\n",
              "      fill: #D2E3FC;\n",
              "    }\n",
              "\n",
              "    [theme=dark] .colab-df-convert:hover {\n",
              "      background-color: #434B5C;\n",
              "      box-shadow: 0px 1px 3px 1px rgba(0, 0, 0, 0.15);\n",
              "      filter: drop-shadow(0px 1px 2px rgba(0, 0, 0, 0.3));\n",
              "      fill: #FFFFFF;\n",
              "    }\n",
              "  </style>\n",
              "\n",
              "    <script>\n",
              "      const buttonEl =\n",
              "        document.querySelector('#df-47b1942b-9646-4a8f-b998-cab37d23a2dd button.colab-df-convert');\n",
              "      buttonEl.style.display =\n",
              "        google.colab.kernel.accessAllowed ? 'block' : 'none';\n",
              "\n",
              "      async function convertToInteractive(key) {\n",
              "        const element = document.querySelector('#df-47b1942b-9646-4a8f-b998-cab37d23a2dd');\n",
              "        const dataTable =\n",
              "          await google.colab.kernel.invokeFunction('convertToInteractive',\n",
              "                                                    [key], {});\n",
              "        if (!dataTable) return;\n",
              "\n",
              "        const docLinkHtml = 'Like what you see? Visit the ' +\n",
              "          '<a target=\"_blank\" href=https://colab.research.google.com/notebooks/data_table.ipynb>data table notebook</a>'\n",
              "          + ' to learn more about interactive tables.';\n",
              "        element.innerHTML = '';\n",
              "        dataTable['output_type'] = 'display_data';\n",
              "        await google.colab.output.renderOutput(dataTable, element);\n",
              "        const docLink = document.createElement('div');\n",
              "        docLink.innerHTML = docLinkHtml;\n",
              "        element.appendChild(docLink);\n",
              "      }\n",
              "    </script>\n",
              "  </div>\n",
              "\n",
              "\n",
              "<div id=\"df-0f28a6d7-7dce-4af7-a5c9-4fe4741b5112\">\n",
              "  <button class=\"colab-df-quickchart\" onclick=\"quickchart('df-0f28a6d7-7dce-4af7-a5c9-4fe4741b5112')\"\n",
              "            title=\"Suggest charts\"\n",
              "            style=\"display:none;\">\n",
              "\n",
              "<svg xmlns=\"http://www.w3.org/2000/svg\" height=\"24px\"viewBox=\"0 0 24 24\"\n",
              "     width=\"24px\">\n",
              "    <g>\n",
              "        <path d=\"M19 3H5c-1.1 0-2 .9-2 2v14c0 1.1.9 2 2 2h14c1.1 0 2-.9 2-2V5c0-1.1-.9-2-2-2zM9 17H7v-7h2v7zm4 0h-2V7h2v10zm4 0h-2v-4h2v4z\"/>\n",
              "    </g>\n",
              "</svg>\n",
              "  </button>\n",
              "\n",
              "<style>\n",
              "  .colab-df-quickchart {\n",
              "      --bg-color: #E8F0FE;\n",
              "      --fill-color: #1967D2;\n",
              "      --hover-bg-color: #E2EBFA;\n",
              "      --hover-fill-color: #174EA6;\n",
              "      --disabled-fill-color: #AAA;\n",
              "      --disabled-bg-color: #DDD;\n",
              "  }\n",
              "\n",
              "  [theme=dark] .colab-df-quickchart {\n",
              "      --bg-color: #3B4455;\n",
              "      --fill-color: #D2E3FC;\n",
              "      --hover-bg-color: #434B5C;\n",
              "      --hover-fill-color: #FFFFFF;\n",
              "      --disabled-bg-color: #3B4455;\n",
              "      --disabled-fill-color: #666;\n",
              "  }\n",
              "\n",
              "  .colab-df-quickchart {\n",
              "    background-color: var(--bg-color);\n",
              "    border: none;\n",
              "    border-radius: 50%;\n",
              "    cursor: pointer;\n",
              "    display: none;\n",
              "    fill: var(--fill-color);\n",
              "    height: 32px;\n",
              "    padding: 0;\n",
              "    width: 32px;\n",
              "  }\n",
              "\n",
              "  .colab-df-quickchart:hover {\n",
              "    background-color: var(--hover-bg-color);\n",
              "    box-shadow: 0 1px 2px rgba(60, 64, 67, 0.3), 0 1px 3px 1px rgba(60, 64, 67, 0.15);\n",
              "    fill: var(--button-hover-fill-color);\n",
              "  }\n",
              "\n",
              "  .colab-df-quickchart-complete:disabled,\n",
              "  .colab-df-quickchart-complete:disabled:hover {\n",
              "    background-color: var(--disabled-bg-color);\n",
              "    fill: var(--disabled-fill-color);\n",
              "    box-shadow: none;\n",
              "  }\n",
              "\n",
              "  .colab-df-spinner {\n",
              "    border: 2px solid var(--fill-color);\n",
              "    border-color: transparent;\n",
              "    border-bottom-color: var(--fill-color);\n",
              "    animation:\n",
              "      spin 1s steps(1) infinite;\n",
              "  }\n",
              "\n",
              "  @keyframes spin {\n",
              "    0% {\n",
              "      border-color: transparent;\n",
              "      border-bottom-color: var(--fill-color);\n",
              "      border-left-color: var(--fill-color);\n",
              "    }\n",
              "    20% {\n",
              "      border-color: transparent;\n",
              "      border-left-color: var(--fill-color);\n",
              "      border-top-color: var(--fill-color);\n",
              "    }\n",
              "    30% {\n",
              "      border-color: transparent;\n",
              "      border-left-color: var(--fill-color);\n",
              "      border-top-color: var(--fill-color);\n",
              "      border-right-color: var(--fill-color);\n",
              "    }\n",
              "    40% {\n",
              "      border-color: transparent;\n",
              "      border-right-color: var(--fill-color);\n",
              "      border-top-color: var(--fill-color);\n",
              "    }\n",
              "    60% {\n",
              "      border-color: transparent;\n",
              "      border-right-color: var(--fill-color);\n",
              "    }\n",
              "    80% {\n",
              "      border-color: transparent;\n",
              "      border-right-color: var(--fill-color);\n",
              "      border-bottom-color: var(--fill-color);\n",
              "    }\n",
              "    90% {\n",
              "      border-color: transparent;\n",
              "      border-bottom-color: var(--fill-color);\n",
              "    }\n",
              "  }\n",
              "</style>\n",
              "\n",
              "  <script>\n",
              "    async function quickchart(key) {\n",
              "      const quickchartButtonEl =\n",
              "        document.querySelector('#' + key + ' button');\n",
              "      quickchartButtonEl.disabled = true;  // To prevent multiple clicks.\n",
              "      quickchartButtonEl.classList.add('colab-df-spinner');\n",
              "      try {\n",
              "        const charts = await google.colab.kernel.invokeFunction(\n",
              "            'suggestCharts', [key], {});\n",
              "      } catch (error) {\n",
              "        console.error('Error during call to suggestCharts:', error);\n",
              "      }\n",
              "      quickchartButtonEl.classList.remove('colab-df-spinner');\n",
              "      quickchartButtonEl.classList.add('colab-df-quickchart-complete');\n",
              "    }\n",
              "    (() => {\n",
              "      let quickchartButtonEl =\n",
              "        document.querySelector('#df-0f28a6d7-7dce-4af7-a5c9-4fe4741b5112 button');\n",
              "      quickchartButtonEl.style.display =\n",
              "        google.colab.kernel.accessAllowed ? 'block' : 'none';\n",
              "    })();\n",
              "  </script>\n",
              "</div>\n",
              "\n",
              "    </div>\n",
              "  </div>\n"
            ],
            "application/vnd.google.colaboratory.intrinsic+json": {
              "type": "dataframe",
              "variable_name": "df",
              "summary": "{\n  \"name\": \"df\",\n  \"rows\": 13200,\n  \"fields\": [\n    {\n      \"column\": \"temperature\",\n      \"properties\": {\n        \"dtype\": \"number\",\n        \"std\": 17,\n        \"min\": -25,\n        \"max\": 109,\n        \"num_unique_values\": 126,\n        \"samples\": [\n          80,\n          4,\n          88\n        ],\n        \"semantic_type\": \"\",\n        \"description\": \"\"\n      }\n    },\n    {\n      \"column\": \"humidity\",\n      \"properties\": {\n        \"dtype\": \"number\",\n        \"std\": 20,\n        \"min\": 20,\n        \"max\": 109,\n        \"num_unique_values\": 90,\n        \"samples\": [\n          84,\n          72,\n          38\n        ],\n        \"semantic_type\": \"\",\n        \"description\": \"\"\n      }\n    },\n    {\n      \"column\": \"wind_speed\",\n      \"properties\": {\n        \"dtype\": \"number\",\n        \"std\": 6.908704141531314,\n        \"min\": 0.0,\n        \"max\": 48.5,\n        \"num_unique_values\": 97,\n        \"samples\": [\n          26.5,\n          14.5,\n          47.5\n        ],\n        \"semantic_type\": \"\",\n        \"description\": \"\"\n      }\n    },\n    {\n      \"column\": \"precipitation (%)\",\n      \"properties\": {\n        \"dtype\": \"number\",\n        \"std\": 31,\n        \"min\": 0,\n        \"max\": 109,\n        \"num_unique_values\": 110,\n        \"samples\": [\n          51,\n          8,\n          26\n        ],\n        \"semantic_type\": \"\",\n        \"description\": \"\"\n      }\n    },\n    {\n      \"column\": \"cloud_cover\",\n      \"properties\": {\n        \"dtype\": \"category\",\n        \"num_unique_values\": 4,\n        \"samples\": [\n          \"clear\",\n          \"cloudy\",\n          \"partly cloudy\"\n        ],\n        \"semantic_type\": \"\",\n        \"description\": \"\"\n      }\n    },\n    {\n      \"column\": \"atmospheric_pressure\",\n      \"properties\": {\n        \"dtype\": \"number\",\n        \"std\": 37.199588697503366,\n        \"min\": 800.12,\n        \"max\": 1199.21,\n        \"num_unique_values\": 5456,\n        \"samples\": [\n          939.13,\n          985.08,\n          987.72\n        ],\n        \"semantic_type\": \"\",\n        \"description\": \"\"\n      }\n    },\n    {\n      \"column\": \"uv_index\",\n      \"properties\": {\n        \"dtype\": \"number\",\n        \"std\": 3,\n        \"min\": 0,\n        \"max\": 14,\n        \"num_unique_values\": 15,\n        \"samples\": [\n          4,\n          10,\n          2\n        ],\n        \"semantic_type\": \"\",\n        \"description\": \"\"\n      }\n    },\n    {\n      \"column\": \"season\",\n      \"properties\": {\n        \"dtype\": \"category\",\n        \"num_unique_values\": 4,\n        \"samples\": [\n          \"Spring\",\n          \"Autumn\",\n          \"Winter\"\n        ],\n        \"semantic_type\": \"\",\n        \"description\": \"\"\n      }\n    },\n    {\n      \"column\": \"visibility (km)\",\n      \"properties\": {\n        \"dtype\": \"number\",\n        \"std\": 3.3714989103539508,\n        \"min\": 0.0,\n        \"max\": 20.0,\n        \"num_unique_values\": 41,\n        \"samples\": [\n          13.0,\n          9.5,\n          1.5\n        ],\n        \"semantic_type\": \"\",\n        \"description\": \"\"\n      }\n    },\n    {\n      \"column\": \"location\",\n      \"properties\": {\n        \"dtype\": \"category\",\n        \"num_unique_values\": 3,\n        \"samples\": [\n          \"inland\",\n          \"mountain\",\n          \"coastal\"\n        ],\n        \"semantic_type\": \"\",\n        \"description\": \"\"\n      }\n    },\n    {\n      \"column\": \"weather_type\",\n      \"properties\": {\n        \"dtype\": \"category\",\n        \"num_unique_values\": 4,\n        \"samples\": [\n          \"Cloudy\",\n          \"Snowy\",\n          \"Rainy\"\n        ],\n        \"semantic_type\": \"\",\n        \"description\": \"\"\n      }\n    }\n  ]\n}"
            }
          },
          "metadata": {},
          "execution_count": 24
        }
      ],
      "source": [
        "# Step 1: Import the data from the \"weather_data.csv\" file\n",
        "df=pd.read_csv('weather_classification_data.csv')\n",
        "\n",
        "# Step 2: Display the number of rows and columns in the dataset\n",
        "print(df.shape)\n",
        "\n",
        "# Step 3: Display the first few rows of the dataset to understand its structure.\n",
        "df.head(5)"
      ]
    },
    {
      "cell_type": "code",
      "execution_count": 4,
      "id": "78370153-aea9-422f-b43d-fff1f9971be6",
      "metadata": {
        "colab": {
          "base_uri": "https://localhost:8080/",
          "height": 625
        },
        "id": "78370153-aea9-422f-b43d-fff1f9971be6",
        "outputId": "799c1925-cd3a-41cb-a234-a120ed17e34b"
      },
      "outputs": [
        {
          "output_type": "stream",
          "name": "stdout",
          "text": [
            "weather_type\n",
            "Rainy     3300\n",
            "Cloudy    3300\n",
            "Sunny     3300\n",
            "Snowy     3300\n",
            "Name: count, dtype: int64\n"
          ]
        },
        {
          "output_type": "display_data",
          "data": {
            "text/plain": [
              "<Figure size 600x600 with 1 Axes>"
            ],
            "image/png": "[encoded data removed]"
          },
          "metadata": {}
        }
      ],
      "source": [
        "# Step 4: Visualize the distribution of key features\n",
        "print(df['weather_type'].value_counts())\n",
        "# Visualize season using a pie chart\n",
        "weather=df['season'].value_counts()\n",
        "plt.figure(figsize=(6, 6))\n",
        "plt.pie(weather, labels=weather.index, autopct='%1.1f%%',colors=['olivedrab', 'rosybrown', 'gray', 'saddlebrown'])\n",
        "plt.title('Class Distribution')\n",
        "plt.show()"
      ]
    },
    {
      "cell_type": "code",
      "execution_count": 5,
      "id": "a09abb1b-f888-467b-858f-3e8df9526e1b",
      "metadata": {
        "colab": {
          "base_uri": "https://localhost:8080/",
          "height": 472
        },
        "id": "a09abb1b-f888-467b-858f-3e8df9526e1b",
        "outputId": "4fb09182-3aa5-41cb-ccc3-c6f59fbd6bd1"
      },
      "outputs": [
        {
          "output_type": "display_data",
          "data": {
            "text/plain": [
              "<Figure size 640x480 with 1 Axes>"
            ],
            "image/png": "[encoded data removed]"
          },
          "metadata": {}
        }
      ],
      "source": [
        "# Visualize temperature, humidity, and wind_speed using histograms\n",
        "plt.hist(df['temperature'], bins=20, alpha=0.5, label='Temperature')\n",
        "plt.hist(df['humidity'], bins=20, alpha=0.5, label='Humidity')\n",
        "plt.hist(df['wind_speed'], bins=20, alpha=0.5, label='Wind Speed')\n",
        "\n",
        "plt.xlabel('Value')\n",
        "plt.ylabel('Frequency')\n",
        "plt.title('Histogram of Temperature, Humidity, and Wind Speed')\n",
        "plt.legend()\n",
        "plt.show()\n"
      ]
    },
    {
      "cell_type": "code",
      "source": [
        "df[['humidity','temperature','wind_speed']].hist(figsize=(15,8),bins=20,color='saddlebrown',layout=(2,3), edgecolor='black', linewidth=1)\n",
        "plt.show()"
      ],
      "metadata": {
        "colab": {
          "base_uri": "https://localhost:8080/",
          "height": 318
        },
        "id": "VOGp92xAsC1A",
        "outputId": "8b12bc2a-93ce-4b01-a5bd-dbeaacd47c15"
      },
      "id": "VOGp92xAsC1A",
      "execution_count": 6,
      "outputs": [
        {
          "output_type": "display_data",
          "data": {
            "text/plain": [
              "<Figure size 1500x800 with 6 Axes>"
            ],
            "image/png": "[encoded data removed]"
          },
          "metadata": {}
        }
      ]
    },
    {
      "cell_type": "code",
      "execution_count": 7,
      "id": "2b2dece8-ecd4-4e13-bee3-a3c7cb5cd378",
      "metadata": {
        "colab": {
          "base_uri": "https://localhost:8080/",
          "height": 391
        },
        "id": "2b2dece8-ecd4-4e13-bee3-a3c7cb5cd378",
        "outputId": "6ee5e5f3-ddd2-42ea-9d15-e19bb6d4a2f6"
      },
      "outputs": [
        {
          "output_type": "display_data",
          "data": {
            "text/plain": [
              "<Figure size 600x400 with 1 Axes>"
            ],
            "image/png": "[encoded data removed]"
          },
          "metadata": {}
        }
      ],
      "source": [
        "# Visualize precipitation (%) using a box plot\n",
        "plt.figure(figsize=(6, 4))\n",
        "plt.boxplot(df['precipitation (%)'],vert=False)\n",
        "plt.ylabel('Precipitation (%)')\n",
        "plt.title('Box Plot of Precipitation')\n",
        "plt.show()"
      ]
    },
    {
      "cell_type": "markdown",
      "id": "dcb1c6f8-c4a6-460e-9d12-c8d6b2904775",
      "metadata": {
        "id": "dcb1c6f8-c4a6-460e-9d12-c8d6b2904775"
      },
      "source": [
        "###Data Transformation\n"
      ]
    },
    {
      "cell_type": "code",
      "execution_count": 25,
      "id": "e1d2f2bc-2c26-4381-9238-df96d0c5ebdd",
      "metadata": {
        "id": "e1d2f2bc-2c26-4381-9238-df96d0c5ebdd"
      },
      "outputs": [],
      "source": [
        "# Step 1: Encode cloud_cover, location and season using one-hot encoding.\n",
        "df=pd.get_dummies(df,columns=['cloud_cover','location','season'],drop_first=True)\n"
      ]
    },
    {
      "cell_type": "code",
      "execution_count": 26,
      "id": "9927c4e3-3713-454d-88cd-64b527e610a5",
      "metadata": {
        "id": "9927c4e3-3713-454d-88cd-64b527e610a5"
      },
      "outputs": [],
      "source": [
        "# Step 2: Scale the numerical features\n",
        "scale=StandardScaler()\n",
        "features=['temperature', 'humidity', 'wind_speed', 'precipitation (%)',\n",
        "       'atmospheric_pressure', 'uv_index', 'visibility (km)']\n",
        "df[features]=scale.fit_transform(df[features])\n"
      ]
    },
    {
      "cell_type": "code",
      "execution_count": 27,
      "id": "c2e5d484-6f5d-40cd-ae7d-8ff3ae13bb9c",
      "metadata": {
        "colab": {
          "base_uri": "https://localhost:8080/",
          "height": 243
        },
        "id": "c2e5d484-6f5d-40cd-ae7d-8ff3ae13bb9c",
        "outputId": "178f89eb-1ba1-4043-ea23-31f1ff690e8b"
      },
      "outputs": [
        {
          "output_type": "execute_result",
          "data": {
            "text/plain": [
              "   temperature  humidity  wind_speed  precipitation (%)  atmospheric_pressure  \\\n",
              "0    -0.294931  0.212404   -0.048086           0.887629              0.134203   \n",
              "1     1.143035  1.351385   -0.192836           0.543291              0.150602   \n",
              "2     0.625367 -0.233285   -0.409962          -1.178401              0.346579   \n",
              "3     1.085516  0.707613   -1.206089           0.887629              0.549008   \n",
              "4     0.452811  0.261924    1.037543           0.386773             -0.407490   \n",
              "\n",
              "   uv_index  visibility (km) weather_type  cloud_cover_cloudy  \\\n",
              "0 -0.520104        -0.582231        Rainy               False   \n",
              "1  0.776424         1.345768       Cloudy               False   \n",
              "2  0.257813         0.010999        Sunny               False   \n",
              "3  0.776424        -1.323769        Sunny               False   \n",
              "4 -0.779410        -0.878846        Rainy               False   \n",
              "\n",
              "   cloud_cover_overcast  cloud_cover_partly cloudy  location_inland  \\\n",
              "0                 False                       True             True   \n",
              "1                 False                       True             True   \n",
              "2                 False                      False            False   \n",
              "3                 False                      False            False   \n",
              "4                  True                      False            False   \n",
              "\n",
              "   location_mountain  season_Spring  season_Summer  season_Winter  \n",
              "0              False          False          False           True  \n",
              "1              False           True          False          False  \n",
              "2               True           True          False          False  \n",
              "3              False           True          False          False  \n",
              "4               True          False          False           True  "
            ],
            "text/html": [
              "\n",
              "  <div id=\"df-93634b40-836e-4647-a101-d7fe4d51740b\" class=\"colab-df-container\">\n",
              "    <div>\n",
              "<style scoped>\n",
              "    .dataframe tbody tr th:only-of-type {\n",
              "        vertical-align: middle;\n",
              "    }\n",
              "\n",
              "    .dataframe tbody tr th {\n",
              "        vertical-align: top;\n",
              "    }\n",
              "\n",
              "    .dataframe thead th {\n",
              "        text-align: right;\n",
              "    }\n",
              "</style>\n",
              "<table border=\"1\" class=\"dataframe\">\n",
              "  <thead>\n",
              "    <tr style=\"text-align: right;\">\n",
              "      <th></th>\n",
              "      <th>temperature</th>\n",
              "      <th>humidity</th>\n",
              "      <th>wind_speed</th>\n",
              "      <th>precipitation (%)</th>\n",
              "      <th>atmospheric_pressure</th>\n",
              "      <th>uv_index</th>\n",
              "      <th>visibility (km)</th>\n",
              "      <th>weather_type</th>\n",
              "      <th>cloud_cover_cloudy</th>\n",
              "      <th>cloud_cover_overcast</th>\n",
              "      <th>cloud_cover_partly cloudy</th>\n",
              "      <th>location_inland</th>\n",
              "      <th>location_mountain</th>\n",
              "      <th>season_Spring</th>\n",
              "      <th>season_Summer</th>\n",
              "      <th>season_Winter</th>\n",
              "    </tr>\n",
              "  </thead>\n",
              "  <tbody>\n",
              "    <tr>\n",
              "      <th>0</th>\n",
              "      <td>-0.294931</td>\n",
              "      <td>0.212404</td>\n",
              "      <td>-0.048086</td>\n",
              "      <td>0.887629</td>\n",
              "      <td>0.134203</td>\n",
              "      <td>-0.520104</td>\n",
              "      <td>-0.582231</td>\n",
              "      <td>Rainy</td>\n",
              "      <td>False</td>\n",
              "      <td>False</td>\n",
              "      <td>True</td>\n",
              "      <td>True</td>\n",
              "      <td>False</td>\n",
              "      <td>False</td>\n",
              "      <td>False</td>\n",
              "      <td>True</td>\n",
              "    </tr>\n",
              "    <tr>\n",
              "      <th>1</th>\n",
              "      <td>1.143035</td>\n",
              "      <td>1.351385</td>\n",
              "      <td>-0.192836</td>\n",
              "      <td>0.543291</td>\n",
              "      <td>0.150602</td>\n",
              "      <td>0.776424</td>\n",
              "      <td>1.345768</td>\n",
              "      <td>Cloudy</td>\n",
              "      <td>False</td>\n",
              "      <td>False</td>\n",
              "      <td>True</td>\n",
              "      <td>True</td>\n",
              "      <td>False</td>\n",
              "      <td>True</td>\n",
              "      <td>False</td>\n",
              "      <td>False</td>\n",
              "    </tr>\n",
              "    <tr>\n",
              "      <th>2</th>\n",
              "      <td>0.625367</td>\n",
              "      <td>-0.233285</td>\n",
              "      <td>-0.409962</td>\n",
              "      <td>-1.178401</td>\n",
              "      <td>0.346579</td>\n",
              "      <td>0.257813</td>\n",
              "      <td>0.010999</td>\n",
              "      <td>Sunny</td>\n",
              "      <td>False</td>\n",
              "      <td>False</td>\n",
              "      <td>False</td>\n",
              "      <td>False</td>\n",
              "      <td>True</td>\n",
              "      <td>True</td>\n",
              "      <td>False</td>\n",
              "      <td>False</td>\n",
              "    </tr>\n",
              "    <tr>\n",
              "      <th>3</th>\n",
              "      <td>1.085516</td>\n",
              "      <td>0.707613</td>\n",
              "      <td>-1.206089</td>\n",
              "      <td>0.887629</td>\n",
              "      <td>0.549008</td>\n",
              "      <td>0.776424</td>\n",
              "      <td>-1.323769</td>\n",
              "      <td>Sunny</td>\n",
              "      <td>False</td>\n",
              "      <td>False</td>\n",
              "      <td>False</td>\n",
              "      <td>False</td>\n",
              "      <td>False</td>\n",
              "      <td>True</td>\n",
              "      <td>False</td>\n",
              "      <td>False</td>\n",
              "    </tr>\n",
              "    <tr>\n",
              "      <th>4</th>\n",
              "      <td>0.452811</td>\n",
              "      <td>0.261924</td>\n",
              "      <td>1.037543</td>\n",
              "      <td>0.386773</td>\n",
              "      <td>-0.407490</td>\n",
              "      <td>-0.779410</td>\n",
              "      <td>-0.878846</td>\n",
              "      <td>Rainy</td>\n",
              "      <td>False</td>\n",
              "      <td>True</td>\n",
              "      <td>False</td>\n",
              "      <td>False</td>\n",
              "      <td>True</td>\n",
              "      <td>False</td>\n",
              "      <td>False</td>\n",
              "      <td>True</td>\n",
              "    </tr>\n",
              "  </tbody>\n",
              "</table>\n",
              "</div>\n",
              "    <div class=\"colab-df-buttons\">\n",
              "\n",
              "  <div class=\"colab-df-container\">\n",
              "    <button class=\"colab-df-convert\" onclick=\"convertToInteractive('df-93634b40-836e-4647-a101-d7fe4d51740b')\"\n",
              "            title=\"Convert this dataframe to an interactive table.\"\n",
              "            style=\"display:none;\">\n",
              "\n",
              "  <svg xmlns=\"http://www.w3.org/2000/svg\" height=\"24px\" viewBox=\"0 -960 960 960\">\n",
              "    <path d=\"M120-120v-720h720v720H120Zm60-500h600v-160H180v160Zm220 220h160v-160H400v160Zm0 220h160v-160H400v160ZM180-400h160v-160H180v160Zm440 0h160v-160H620v160ZM180-180h160v-160H180v160Zm440 0h160v-160H620v160Z\"/>\n",
              "  </svg>\n",
              "    </button>\n",
              "\n",
              "  <style>\n",
              "    .colab-df-container {\n",
              "      display:flex;\n",
              "      gap: 12px;\n",
              "    }\n",
              "\n",
              "    .colab-df-convert {\n",
              "      background-color: #E8F0FE;\n",
              "      border: none;\n",
              "      border-radius: 50%;\n",
              "      cursor: pointer;\n",
              "      display: none;\n",
              "      fill: #1967D2;\n",
              "      height: 32px;\n",
              "      padding: 0 0 0 0;\n",
              "      width: 32px;\n",
              "    }\n",
              "\n",
              "    .colab-df-convert:hover {\n",
              "      background-color: #E2EBFA;\n",
              "      box-shadow: 0px 1px 2px rgba(60, 64, 67, 0.3), 0px 1px 3px 1px rgba(60, 64, 67, 0.15);\n",
              "      fill: #174EA6;\n",
              "    }\n",
              "\n",
              "    .colab-df-buttons div {\n",
              "      margin-bottom: 4px;\n",
              "    }\n",
              "\n",
              "    [theme=dark] .colab-df-convert {\n",
              "      background-color: #3B4455;\n",
              "      fill: #D2E3FC;\n",
              "    }\n",
              "\n",
              "    [theme=dark] .colab-df-convert:hover {\n",
              "      background-color: #434B5C;\n",
              "      box-shadow: 0px 1px 3px 1px rgba(0, 0, 0, 0.15);\n",
              "      filter: drop-shadow(0px 1px 2px rgba(0, 0, 0, 0.3));\n",
              "      fill: #FFFFFF;\n",
              "    }\n",
              "  </style>\n",
              "\n",
              "    <script>\n",
              "      const buttonEl =\n",
              "        document.querySelector('#df-93634b40-836e-4647-a101-d7fe4d51740b button.colab-df-convert');\n",
              "      buttonEl.style.display =\n",
              "        google.colab.kernel.accessAllowed ? 'block' : 'none';\n",
              "\n",
              "      async function convertToInteractive(key) {\n",
              "        const element = document.querySelector('#df-93634b40-836e-4647-a101-d7fe4d51740b');\n",
              "        const dataTable =\n",
              "          await google.colab.kernel.invokeFunction('convertToInteractive',\n",
              "                                                    [key], {});\n",
              "        if (!dataTable) return;\n",
              "\n",
              "        const docLinkHtml = 'Like what you see? Visit the ' +\n",
              "          '<a target=\"_blank\" href=https://colab.research.google.com/notebooks/data_table.ipynb>data table notebook</a>'\n",
              "          + ' to learn more about interactive tables.';\n",
              "        element.innerHTML = '';\n",
              "        dataTable['output_type'] = 'display_data';\n",
              "        await google.colab.output.renderOutput(dataTable, element);\n",
              "        const docLink = document.createElement('div');\n",
              "        docLink.innerHTML = docLinkHtml;\n",
              "        element.appendChild(docLink);\n",
              "      }\n",
              "    </script>\n",
              "  </div>\n",
              "\n",
              "\n",
              "<div id=\"df-aad646ce-1f30-4da0-945e-e5dee6372fb8\">\n",
              "  <button class=\"colab-df-quickchart\" onclick=\"quickchart('df-aad646ce-1f30-4da0-945e-e5dee6372fb8')\"\n",
              "            title=\"Suggest charts\"\n",
              "            style=\"display:none;\">\n",
              "\n",
              "<svg xmlns=\"http://www.w3.org/2000/svg\" height=\"24px\"viewBox=\"0 0 24 24\"\n",
              "     width=\"24px\">\n",
              "    <g>\n",
              "        <path d=\"M19 3H5c-1.1 0-2 .9-2 2v14c0 1.1.9 2 2 2h14c1.1 0 2-.9 2-2V5c0-1.1-.9-2-2-2zM9 17H7v-7h2v7zm4 0h-2V7h2v10zm4 0h-2v-4h2v4z\"/>\n",
              "    </g>\n",
              "</svg>\n",
              "  </button>\n",
              "\n",
              "<style>\n",
              "  .colab-df-quickchart {\n",
              "      --bg-color: #E8F0FE;\n",
              "      --fill-color: #1967D2;\n",
              "      --hover-bg-color: #E2EBFA;\n",
              "      --hover-fill-color: #174EA6;\n",
              "      --disabled-fill-color: #AAA;\n",
              "      --disabled-bg-color: #DDD;\n",
              "  }\n",
              "\n",
              "  [theme=dark] .colab-df-quickchart {\n",
              "      --bg-color: #3B4455;\n",
              "      --fill-color: #D2E3FC;\n",
              "      --hover-bg-color: #434B5C;\n",
              "      --hover-fill-color: #FFFFFF;\n",
              "      --disabled-bg-color: #3B4455;\n",
              "      --disabled-fill-color: #666;\n",
              "  }\n",
              "\n",
              "  .colab-df-quickchart {\n",
              "    background-color: var(--bg-color);\n",
              "    border: none;\n",
              "    border-radius: 50%;\n",
              "    cursor: pointer;\n",
              "    display: none;\n",
              "    fill: var(--fill-color);\n",
              "    height: 32px;\n",
              "    padding: 0;\n",
              "    width: 32px;\n",
              "  }\n",
              "\n",
              "  .colab-df-quickchart:hover {\n",
              "    background-color: var(--hover-bg-color);\n",
              "    box-shadow: 0 1px 2px rgba(60, 64, 67, 0.3), 0 1px 3px 1px rgba(60, 64, 67, 0.15);\n",
              "    fill: var(--button-hover-fill-color);\n",
              "  }\n",
              "\n",
              "  .colab-df-quickchart-complete:disabled,\n",
              "  .colab-df-quickchart-complete:disabled:hover {\n",
              "    background-color: var(--disabled-bg-color);\n",
              "    fill: var(--disabled-fill-color);\n",
              "    box-shadow: none;\n",
              "  }\n",
              "\n",
              "  .colab-df-spinner {\n",
              "    border: 2px solid var(--fill-color);\n",
              "    border-color: transparent;\n",
              "    border-bottom-color: var(--fill-color);\n",
              "    animation:\n",
              "      spin 1s steps(1) infinite;\n",
              "  }\n",
              "\n",
              "  @keyframes spin {\n",
              "    0% {\n",
              "      border-color: transparent;\n",
              "      border-bottom-color: var(--fill-color);\n",
              "      border-left-color: var(--fill-color);\n",
              "    }\n",
              "    20% {\n",
              "      border-color: transparent;\n",
              "      border-left-color: var(--fill-color);\n",
              "      border-top-color: var(--fill-color);\n",
              "    }\n",
              "    30% {\n",
              "      border-color: transparent;\n",
              "      border-left-color: var(--fill-color);\n",
              "      border-top-color: var(--fill-color);\n",
              "      border-right-color: var(--fill-color);\n",
              "    }\n",
              "    40% {\n",
              "      border-color: transparent;\n",
              "      border-right-color: var(--fill-color);\n",
              "      border-top-color: var(--fill-color);\n",
              "    }\n",
              "    60% {\n",
              "      border-color: transparent;\n",
              "      border-right-color: var(--fill-color);\n",
              "    }\n",
              "    80% {\n",
              "      border-color: transparent;\n",
              "      border-right-color: var(--fill-color);\n",
              "      border-bottom-color: var(--fill-color);\n",
              "    }\n",
              "    90% {\n",
              "      border-color: transparent;\n",
              "      border-bottom-color: var(--fill-color);\n",
              "    }\n",
              "  }\n",
              "</style>\n",
              "\n",
              "  <script>\n",
              "    async function quickchart(key) {\n",
              "      const quickchartButtonEl =\n",
              "        document.querySelector('#' + key + ' button');\n",
              "      quickchartButtonEl.disabled = true;  // To prevent multiple clicks.\n",
              "      quickchartButtonEl.classList.add('colab-df-spinner');\n",
              "      try {\n",
              "        const charts = await google.colab.kernel.invokeFunction(\n",
              "            'suggestCharts', [key], {});\n",
              "      } catch (error) {\n",
              "        console.error('Error during call to suggestCharts:', error);\n",
              "      }\n",
              "      quickchartButtonEl.classList.remove('colab-df-spinner');\n",
              "      quickchartButtonEl.classList.add('colab-df-quickchart-complete');\n",
              "    }\n",
              "    (() => {\n",
              "      let quickchartButtonEl =\n",
              "        document.querySelector('#df-aad646ce-1f30-4da0-945e-e5dee6372fb8 button');\n",
              "      quickchartButtonEl.style.display =\n",
              "        google.colab.kernel.accessAllowed ? 'block' : 'none';\n",
              "    })();\n",
              "  </script>\n",
              "</div>\n",
              "\n",
              "    </div>\n",
              "  </div>\n"
            ],
            "application/vnd.google.colaboratory.intrinsic+json": {
              "type": "dataframe",
              "variable_name": "df",
              "summary": "{\n  \"name\": \"df\",\n  \"rows\": 13200,\n  \"fields\": [\n    {\n      \"column\": \"temperature\",\n      \"properties\": {\n        \"dtype\": \"number\",\n        \"std\": 1.0000378809402262,\n        \"min\": -2.5381581982019203,\n        \"max\": 5.169339726169491,\n        \"num_unique_values\": 126,\n        \"samples\": [\n          3.5012991305965735,\n          -0.8701176026290033,\n          3.961448260409792\n        ],\n        \"semantic_type\": \"\",\n        \"description\": \"\"\n      }\n    },\n    {\n      \"column\": \"humidity\",\n      \"properties\": {\n        \"dtype\": \"number\",\n        \"std\": 1.0000378809402202,\n        \"min\": -2.4122056105711907,\n        \"max\": 1.995156872261225,\n        \"num_unique_values\": 90,\n        \"samples\": [\n          0.7571337029262768,\n          0.1628825816455017,\n          -1.5208289286500278\n        ],\n        \"semantic_type\": \"\",\n        \"description\": \"\"\n      }\n    },\n    {\n      \"column\": \"wind_speed\",\n      \"properties\": {\n        \"dtype\": \"number\",\n        \"std\": 1.0000378809402428,\n        \"min\": -1.4232147188724793,\n        \"max\": 5.597181035815361,\n        \"num_unique_values\": 97,\n        \"samples\": [\n          2.4126716213177835,\n          0.6756664861372872,\n          5.452430607883653\n        ],\n        \"semantic_type\": \"\",\n        \"description\": \"\"\n      }\n    },\n    {\n      \"column\": \"precipitation (%)\",\n      \"properties\": {\n        \"dtype\": \"number\",\n        \"std\": 1.0000378809402244,\n        \"min\": -1.6792561806842878,\n        \"max\": 1.7328230740721378,\n        \"num_unique_values\": 110,\n        \"samples\": [\n          -0.08277873121109788,\n          -1.4288283454728072,\n          -0.8653657162469753\n        ],\n        \"semantic_type\": \"\",\n        \"description\": \"\"\n      }\n    },\n    {\n      \"column\": \"atmospheric_pressure\",\n      \"properties\": {\n        \"dtype\": \"number\",\n        \"std\": 1.0000378809402142,\n        \"min\": -5.530052772719152,\n        \"max\": 5.198698051647312,\n        \"num_unique_values\": 5456,\n        \"samples\": [\n          -1.7930419428432296,\n          -0.557766440125448,\n          -0.48679522517060747\n        ],\n        \"semantic_type\": \"\",\n        \"description\": \"\"\n      }\n    },\n    {\n      \"column\": \"uv_index\",\n      \"properties\": {\n        \"dtype\": \"number\",\n        \"std\": 1.0000378809401902,\n        \"min\": -1.0387151745577339,\n        \"max\": 2.5915625366584933,\n        \"num_unique_values\": 15,\n        \"samples\": [\n          -0.0014929713530976065,\n          1.554340333453857,\n          -0.5201040729554158\n        ],\n        \"semantic_type\": \"\",\n        \"description\": \"\"\n      }\n    },\n    {\n      \"column\": \"visibility (km)\",\n      \"properties\": {\n        \"dtype\": \"number\",\n        \"std\": 1.0000378809401933,\n        \"min\": -1.6203842125853756,\n        \"max\": 4.311920127594475,\n        \"num_unique_values\": 41,\n        \"samples\": [\n          2.2356136085315277,\n          1.1974603490000537,\n          -1.1754613870718866\n        ],\n        \"semantic_type\": \"\",\n        \"description\": \"\"\n      }\n    },\n    {\n      \"column\": \"weather_type\",\n      \"properties\": {\n        \"dtype\": \"category\",\n        \"num_unique_values\": 4,\n        \"samples\": [\n          \"Cloudy\",\n          \"Snowy\",\n          \"Rainy\"\n        ],\n        \"semantic_type\": \"\",\n        \"description\": \"\"\n      }\n    },\n    {\n      \"column\": \"cloud_cover_cloudy\",\n      \"properties\": {\n        \"dtype\": \"boolean\",\n        \"num_unique_values\": 2,\n        \"samples\": [\n          true,\n          false\n        ],\n        \"semantic_type\": \"\",\n        \"description\": \"\"\n      }\n    },\n    {\n      \"column\": \"cloud_cover_overcast\",\n      \"properties\": {\n        \"dtype\": \"boolean\",\n        \"num_unique_values\": 2,\n        \"samples\": [\n          true,\n          false\n        ],\n        \"semantic_type\": \"\",\n        \"description\": \"\"\n      }\n    },\n    {\n      \"column\": \"cloud_cover_partly cloudy\",\n      \"properties\": {\n        \"dtype\": \"boolean\",\n        \"num_unique_values\": 2,\n        \"samples\": [\n          false,\n          true\n        ],\n        \"semantic_type\": \"\",\n        \"description\": \"\"\n      }\n    },\n    {\n      \"column\": \"location_inland\",\n      \"properties\": {\n        \"dtype\": \"boolean\",\n        \"num_unique_values\": 2,\n        \"samples\": [\n          false,\n          true\n        ],\n        \"semantic_type\": \"\",\n        \"description\": \"\"\n      }\n    },\n    {\n      \"column\": \"location_mountain\",\n      \"properties\": {\n        \"dtype\": \"boolean\",\n        \"num_unique_values\": 2,\n        \"samples\": [\n          true,\n          false\n        ],\n        \"semantic_type\": \"\",\n        \"description\": \"\"\n      }\n    },\n    {\n      \"column\": \"season_Spring\",\n      \"properties\": {\n        \"dtype\": \"boolean\",\n        \"num_unique_values\": 2,\n        \"samples\": [\n          true,\n          false\n        ],\n        \"semantic_type\": \"\",\n        \"description\": \"\"\n      }\n    },\n    {\n      \"column\": \"season_Summer\",\n      \"properties\": {\n        \"dtype\": \"boolean\",\n        \"num_unique_values\": 2,\n        \"samples\": [\n          true,\n          false\n        ],\n        \"semantic_type\": \"\",\n        \"description\": \"\"\n      }\n    },\n    {\n      \"column\": \"season_Winter\",\n      \"properties\": {\n        \"dtype\": \"boolean\",\n        \"num_unique_values\": 2,\n        \"samples\": [\n          false,\n          true\n        ],\n        \"semantic_type\": \"\",\n        \"description\": \"\"\n      }\n    }\n  ]\n}"
            }
          },
          "metadata": {},
          "execution_count": 27
        }
      ],
      "source": [
        "# Step3: Display the first few rows of the updated dataset.\n",
        "df.head(5)\n"
      ]
    },
    {
      "cell_type": "markdown",
      "id": "4dec953b-e5d5-4f77-aa8b-5cd91934a9ea",
      "metadata": {
        "id": "4dec953b-e5d5-4f77-aa8b-5cd91934a9ea"
      },
      "source": [
        "### Model Training Using SVM with Linear Kernel\n"
      ]
    },
    {
      "cell_type": "code",
      "execution_count": 28,
      "id": "bc04c2fa-01e6-4b6a-8ff8-47ef12a64668",
      "metadata": {
        "id": "bc04c2fa-01e6-4b6a-8ff8-47ef12a64668"
      },
      "outputs": [],
      "source": [
        "# Step 1: Select features and target variable\n",
        "X=df.drop('weather_type',axis=1)\n",
        "y=df['weather_type']\n",
        "\n",
        "# Step 2: Split the data\n",
        "X_train,X_test,y_train,y_test=train_test_split(X,y,test_size=0.3,random_state=42)"
      ]
    },
    {
      "cell_type": "code",
      "execution_count": 13,
      "id": "73344288-6446-4b32-acc4-b3bd0afbc4e6",
      "metadata": {
        "colab": {
          "base_uri": "https://localhost:8080/"
        },
        "id": "73344288-6446-4b32-acc4-b3bd0afbc4e6",
        "outputId": "096e225a-8d7f-4c0d-df34-0ec20ff00564"
      },
      "outputs": [
        {
          "output_type": "stream",
          "name": "stdout",
          "text": [
            "accuracy:  0.8845959595959596\n"
          ]
        }
      ],
      "source": [
        "# Step 3: Train SVM with linear kernel\n",
        "model=SVC(kernel='linear')\n",
        "model.fit(X_train,y_train)\n",
        "\n",
        "# Step 4: Print accuracy score\n",
        "print(\"accuracy: \",model.score(X_test,y_test))\n"
      ]
    },
    {
      "cell_type": "code",
      "execution_count": 14,
      "id": "61d4ff17-c4d0-4c63-9643-56b2e920a261",
      "metadata": {
        "colab": {
          "base_uri": "https://localhost:8080/"
        },
        "id": "61d4ff17-c4d0-4c63-9643-56b2e920a261",
        "outputId": "6f312dd8-196b-4579-dab6-7b1a2bb8b061"
      },
      "outputs": [
        {
          "output_type": "stream",
          "name": "stdout",
          "text": [
            "              precision    recall  f1-score   support\n",
            "\n",
            "      Cloudy       0.86      0.84      0.85       955\n",
            "       Rainy       0.87      0.87      0.87       982\n",
            "       Snowy       0.88      0.94      0.91      1033\n",
            "       Sunny       0.92      0.88      0.90       990\n",
            "\n",
            "    accuracy                           0.88      3960\n",
            "   macro avg       0.88      0.88      0.88      3960\n",
            "weighted avg       0.88      0.88      0.88      3960\n",
            "\n",
            "[[806  82  28  39]\n",
            " [ 49 852  67  14]\n",
            " [ 26  12 974  21]\n",
            " [ 57  29  33 871]]\n"
          ]
        }
      ],
      "source": [
        "# Step 5: Evaluate the model\n",
        "y_pred=model.predict(X_test)\n",
        "\n",
        "\n",
        "#classification report\n",
        "report=classification_report(y_test,y_pred)\n",
        "print(report)\n",
        "\n",
        "\n",
        "#confusion matrix\n",
        "c_m=confusion_matrix(y_test,y_pred)\n",
        "print(c_m)\n"
      ]
    },
    {
      "cell_type": "markdown",
      "source": [
        "**Visualising confusion matrix using heatmap**"
      ],
      "metadata": {
        "id": "KueAcVXeO-oj"
      },
      "id": "KueAcVXeO-oj"
    },
    {
      "cell_type": "code",
      "source": [
        "classes=df['weather_type'].unique()\n",
        "classes"
      ],
      "metadata": {
        "colab": {
          "base_uri": "https://localhost:8080/"
        },
        "id": "Dzv9588J3_xg",
        "outputId": "12a0feb2-1841-495d-e21c-abfc26d79507"
      },
      "id": "Dzv9588J3_xg",
      "execution_count": 15,
      "outputs": [
        {
          "output_type": "execute_result",
          "data": {
            "text/plain": [
              "array(['Rainy', 'Cloudy', 'Sunny', 'Snowy'], dtype=object)"
            ]
          },
          "metadata": {},
          "execution_count": 15
        }
      ]
    },
    {
      "cell_type": "code",
      "source": [
        "sns.heatmap(c_m,annot=True,fmt='d',cmap='Blues',xticklabels=classes,yticklabels=classes)\n",
        "plt.title('Confusion Matrix')\n",
        "plt.xlabel('Predicted Labels')\n",
        "plt.ylabel('True Labels')\n",
        "plt.show()"
      ],
      "metadata": {
        "colab": {
          "base_uri": "https://localhost:8080/",
          "height": 472
        },
        "id": "E2ymzoWb3kZo",
        "outputId": "c76a09ee-2369-4de9-fb77-8b8622f561b3"
      },
      "id": "E2ymzoWb3kZo",
      "execution_count": 16,
      "outputs": [
        {
          "output_type": "display_data",
          "data": {
            "text/plain": [
              "<Figure size 640x480 with 2 Axes>"
            ],
            "image/png": "[encoded data removed]"
          },
          "metadata": {}
        }
      ]
    },
    {
      "cell_type": "markdown",
      "id": "2f09678a-daba-4444-a4af-4472dd9141b3",
      "metadata": {
        "id": "2f09678a-daba-4444-a4af-4472dd9141b3"
      },
      "source": [
        "### Model Training Using SVM with RBF Kernel\n"
      ]
    },
    {
      "cell_type": "code",
      "execution_count": 17,
      "id": "45c809ed-1a87-4310-a1ee-2a5b7eca662d",
      "metadata": {
        "colab": {
          "base_uri": "https://localhost:8080/"
        },
        "id": "45c809ed-1a87-4310-a1ee-2a5b7eca662d",
        "outputId": "5ee763f8-77d8-474b-dd89-e153ffa4b3a8"
      },
      "outputs": [
        {
          "output_type": "stream",
          "name": "stdout",
          "text": [
            "accuracy 0.9055555555555556\n",
            "              precision    recall  f1-score   support\n",
            "\n",
            "      Cloudy       0.86      0.88      0.87       955\n",
            "       Rainy       0.89      0.91      0.90       982\n",
            "       Snowy       0.94      0.94      0.94      1033\n",
            "       Sunny       0.93      0.89      0.91       990\n",
            "\n",
            "    accuracy                           0.91      3960\n",
            "   macro avg       0.91      0.91      0.91      3960\n",
            "weighted avg       0.91      0.91      0.91      3960\n",
            "\n",
            "[[843  64  24  24]\n",
            " [ 54 891  13  24]\n",
            " [ 30  14 968  21]\n",
            " [ 48  28  30 884]]\n"
          ]
        }
      ],
      "source": [
        "# Step 1: Train SVM with RBF kernel\n",
        "model_rbf=SVC(kernel='rbf')\n",
        "model_rbf.fit(X_train,y_train)\n",
        "\n",
        "\n",
        "# Step 2: Print accuracy score\n",
        "print(\"accuracy\",model_rbf.score(X_test,y_test))\n",
        "\n",
        "\n",
        "\n",
        "# Step 3: Evaluate the model\n",
        "y_pred_rbf=model_rbf.predict(X_test)\n",
        "#classification report\n",
        "report_rbf=classification_report(y_test,y_pred_rbf)\n",
        "print(report_rbf)\n",
        "\n",
        "\n",
        "#confusion matrix\n",
        "matrix=confusion_matrix(y_test,y_pred_rbf)\n",
        "print(matrix)\n"
      ]
    },
    {
      "cell_type": "markdown",
      "source": [
        "**Visualising confusion matrix using heatmap**"
      ],
      "metadata": {
        "id": "LyATpOfYPfCz"
      },
      "id": "LyATpOfYPfCz"
    },
    {
      "cell_type": "code",
      "source": [
        "sns.heatmap(matrix,annot=True,fmt='d',cmap='Blues',xticklabels=classes,yticklabels=classes)\n",
        "plt.title('Confusion Matrix')\n",
        "plt.xlabel('Predicted Labels')\n",
        "plt.ylabel('True Labels')\n",
        "plt.show()"
      ],
      "metadata": {
        "colab": {
          "base_uri": "https://localhost:8080/",
          "height": 472
        },
        "id": "HN2gNhau5BMH",
        "outputId": "cc94829b-cb69-4c70-dee5-d63254196c85"
      },
      "id": "HN2gNhau5BMH",
      "execution_count": 18,
      "outputs": [
        {
          "output_type": "display_data",
          "data": {
            "text/plain": [
              "<Figure size 640x480 with 2 Axes>"
            ],
            "image/png": "[encoded data removed]"
          },
          "metadata": {}
        }
      ]
    },
    {
      "cell_type": "markdown",
      "id": "27f358d2-a51b-4cd7-94bc-f33e8f32b0e7",
      "metadata": {
        "id": "27f358d2-a51b-4cd7-94bc-f33e8f32b0e7"
      },
      "source": [
        "### Experiment with Hyperparameters in SVM\n",
        "\n",
        "Trained an SVM model with an RBF kernel and the following hyperparameters:\n",
        "    - C=0.5\n",
        "    - gamma='auto'\n",
        "    - kernel='rbf'\n",
        "    - degree=2\n",
        "      \n",
        "[SVC Parameters](https://scikit-learn.org/stable/modules/generated/sklearn.svm.SVC.html)\n"
      ]
    },
    {
      "cell_type": "code",
      "execution_count": 21,
      "id": "2e222cc7-2fa4-4e45-a6d5-a1889763a7e7",
      "metadata": {
        "colab": {
          "base_uri": "https://localhost:8080/"
        },
        "id": "2e222cc7-2fa4-4e45-a6d5-a1889763a7e7",
        "outputId": "34f01a5c-5daa-4773-b438-1e04449faea3"
      },
      "outputs": [
        {
          "output_type": "stream",
          "name": "stdout",
          "text": [
            "accuracy 0.898989898989899\n",
            "              precision    recall  f1-score   support\n",
            "\n",
            "      Cloudy       0.87      0.87      0.87       955\n",
            "       Rainy       0.90      0.90      0.90       982\n",
            "       Snowy       0.90      0.94      0.92      1033\n",
            "       Sunny       0.93      0.88      0.91       990\n",
            "\n",
            "    accuracy                           0.90      3960\n",
            "   macro avg       0.90      0.90      0.90      3960\n",
            "weighted avg       0.90      0.90      0.90      3960\n",
            "\n",
            "[[833  62  36  24]\n",
            " [ 50 882  31  19]\n",
            " [ 29  10 973  21]\n",
            " [ 46  30  42 872]]\n"
          ]
        }
      ],
      "source": [
        "# Step 1: Train the SVM model with specified hyperparameters\n",
        "model_svm=SVC(C=0.5,gamma='auto',kernel='rbf',degree=2)\n",
        "model_svm.fit(X_train,y_train)\n",
        "\n",
        "# Step 2: Print the model's accuracy score\n",
        "accuracy=model_svm.score(X_test,y_test)\n",
        "print(\"accuracy\",accuracy)\n",
        "\n",
        "\n",
        "# Step 3: Make predictions on the test set\n",
        "y_pred_svm=model_svm.predict(X_test)\n",
        "\n",
        "\n",
        "# Step 4: Evaluate the model using a classification report and confusion matrix\n",
        "report_svm=classification_report(y_test,y_pred_svm)\n",
        "\n",
        "\n",
        "\n",
        "#confusion matrix\n",
        "matrix_svm=confusion_matrix(y_test,y_pred_svm)\n",
        "\n",
        "\n",
        "#classification report\n",
        "print(report_svm)\n",
        "\n",
        "\n",
        "#confusion matrix\n",
        "print(matrix_svm)\n"
      ]
    },
    {
      "cell_type": "markdown",
      "id": "47fc95f6-3538-49ab-9eea-438662d0569a",
      "metadata": {
        "id": "47fc95f6-3538-49ab-9eea-438662d0569a"
      },
      "source": [
        "### Implementing Sklearn Pipeline\n"
      ]
    },
    {
      "cell_type": "code",
      "execution_count": 31,
      "id": "a766b1f7-a765-43f0-8677-a49c07b3f1c7",
      "metadata": {
        "colab": {
          "base_uri": "https://localhost:8080/"
        },
        "id": "a766b1f7-a765-43f0-8677-a49c07b3f1c7",
        "outputId": "c8f13964-1c6f-4795-9360-4f8d7fd6784c"
      },
      "outputs": [
        {
          "output_type": "stream",
          "name": "stdout",
          "text": [
            "              precision    recall  f1-score   support\n",
            "\n",
            "      Cloudy       0.87      0.87      0.87       955\n",
            "       Rainy       0.90      0.90      0.90       982\n",
            "       Snowy       0.90      0.94      0.92      1033\n",
            "       Sunny       0.93      0.88      0.91       990\n",
            "\n",
            "    accuracy                           0.90      3960\n",
            "   macro avg       0.90      0.90      0.90      3960\n",
            "weighted avg       0.90      0.90      0.90      3960\n",
            "\n",
            "[[836  64  29  26]\n",
            " [ 47 892  22  21]\n",
            " [ 30  16 971  16]\n",
            " [ 52  27  29 882]]\n"
          ]
        }
      ],
      "source": [
        "# Create a pipeline with two steps: scaling and SVM with RBF kernel\n",
        "from sklearn.pipeline import Pipeline\n",
        "pipeline=Pipeline([('scale',StandardScaler()),('svm',SVC(kernel='rbf'))])\n",
        "\n",
        "\n",
        "\n",
        "# Fit the pipeline on the training data\n",
        "pipeline.fit(X_train,y_train)\n",
        "\n",
        "# Make predictions using the pipeline on the test data\n",
        "predict=pipeline.predict(X_test)\n",
        "\n",
        "# Print the classification report for the pipeline model\n",
        "report=classification_report(y_test,predict)\n",
        "print(report_svm)\n",
        "\n",
        "# Print the confusion matrix for the pipeline model\n",
        "cm=confusion_matrix(y_test,predict)\n",
        "print(cm)"
      ]
    },
    {
      "cell_type": "markdown",
      "source": [
        "**Visualising confusion matrix using heatmap**"
      ],
      "metadata": {
        "id": "QuUavHKpPcP6"
      },
      "id": "QuUavHKpPcP6"
    },
    {
      "cell_type": "code",
      "source": [
        "sns.heatmap(cm,annot=True,fmt='d',cmap='Purples',xticklabels=classes,yticklabels=classes)\n",
        "plt.title('Confusion Matrix')\n",
        "plt.xlabel('Predicted Labels')\n",
        "plt.ylabel('True Labels')\n",
        "plt.show()"
      ],
      "metadata": {
        "colab": {
          "base_uri": "https://localhost:8080/",
          "height": 472
        },
        "id": "i9MSsdgrNqlr",
        "outputId": "700ab673-51e9-4927-9f64-edddab685905"
      },
      "id": "i9MSsdgrNqlr",
      "execution_count": 40,
      "outputs": [
        {
          "output_type": "display_data",
          "data": {
            "text/plain": [
              "<Figure size 640x480 with 2 Axes>"
            ],
            "image/png": "[encoded data removed]"
          },
          "metadata": {}
        }
      ]
    }
  ],
  "metadata": {
    "kernelspec": {
      "display_name": "Python 3 (ipykernel)",
      "language": "python",
      "name": "python3"
    },
    "language_info": {
      "codemirror_mode": {
        "name": "ipython",
        "version": 3
      },
      "file_extension": ".py",
      "mimetype": "text/x-python",
      "name": "python",
      "nbconvert_exporter": "python",
      "pygments_lexer": "ipython3",
      "version": "3.10.11"
    },
    "colab": {
      "provenance": [],
      "include_colab_link": true
    }
  },
  "nbformat": 4,
  "nbformat_minor": 5
}